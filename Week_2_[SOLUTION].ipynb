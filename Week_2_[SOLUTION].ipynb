{
    "metadata": {
        "kernelspec": {
            "name": "python3",
            "display_name": "Python 3 (ipykernel)",
            "language": "python"
        },
        "language_info": {
            "name": "python",
            "version": "3.9.12",
            "mimetype": "text/x-python",
            "codemirror_mode": {
                "name": "ipython",
                "version": 3
            },
            "pygments_lexer": "ipython3",
            "nbconvert_exporter": "python",
            "file_extension": ".py"
        },
        "colab": {
            "provenance": [
                {
                    "file_id": "1NBhi8P5Ghd6K0XLCt_5OfZ4XvU_ap2r4",
                    "timestamp": 1631071089220
                },
                {
                    "file_id": "1QhaVnbGSTYiYSwY-Ayhz4y6Cttp2-f99",
                    "timestamp": 1630985534213
                },
                {
                    "file_id": "15kJjmIAueVxJYEbNXXJSOKvr4v9MpSwt",
                    "timestamp": 1629593293155
                }
            ],
            "collapsed_sections": []
        }
    },
    "nbformat_minor": 2,
    "nbformat": 4,
    "cells": [
        {
            "cell_type": "markdown",
            "source": [
                "# Solution - Problem Set 2"
            ],
            "metadata": {
                "id": "wxKNgUhRLAwD",
                "azdata_cell_guid": "cbb56d8a-06ca-43d8-a683-eb98f4f759c2"
            }
        },
        {
            "cell_type": "markdown",
            "source": [
                "## Preparation"
            ],
            "metadata": {
                "id": "nS4C_IlTLEvi",
                "azdata_cell_guid": "af838aa3-db72-4433-be98-134f4ee5579f"
            }
        },
        {
            "cell_type": "code",
            "source": [
                "import pandas as pd\n",
                "import numpy as np\n",
                "import matplotlib.pyplot as plt\n",
                "import seaborn as sns\n",
                "from datetime import datetime\n",
                "import pytz"
            ],
            "metadata": {
                "id": "bQfLZodhATzm",
                "azdata_cell_guid": "4139174f-be84-463f-a938-ce844bca0404",
                "language": "python"
            },
            "outputs": [],
            "execution_count": null
        },
        {
            "cell_type": "markdown",
            "source": [
                "\\### Import data"
            ],
            "metadata": {
                "id": "I5jS0IbE9Lj7",
                "azdata_cell_guid": "394bb98c-2cc5-44ce-a248-26fa2e979a97"
            },
            "attachments": {}
        },
        {
            "cell_type": "code",
            "source": [
                "# You will need the shared Google drive https://drive.google.com/drive/u/1/folders/0ALmMMRrzz_-5Uk9PVA\n",
                "from google.colab import drive\n",
                "drive.mount(\"/content/drive\")\n",
                "!mkdir -p datashim\n",
                "!cp /content/drive/Shareddrives/DS602-F22/Data/data602.py ./datashim\n",
                "from datashim import data602"
            ],
            "metadata": {
                "colab": {
                    "base_uri": "https://localhost:8080/"
                },
                "id": "bxyfs1edBLuT",
                "executionInfo": {
                    "status": "ok",
                    "timestamp": 1646281222947,
                    "user_tz": 300,
                    "elapsed": 19475,
                    "user": {
                        "displayName": "Satyaki Dixit",
                        "photoUrl": "https://lh3.googleusercontent.com/a-/AOh14GjBMxL9VHlVvOM_oyDrrWNqE_B80R1JWvSaxUY=s64",
                        "userId": "05198849980828769987"
                    }
                },
                "outputId": "0892f396-b605-45f2-e197-9d8d71b08f9c",
                "azdata_cell_guid": "ad990cc9-ef87-4f22-b676-217c557f1c9d",
                "language": "python",
                "tags": [
                    "hide_input"
                ]
            },
            "outputs": [
                {
                    "output_type": "stream",
                    "name": "stdout",
                    "text": "Mounted at /content/drive\n"
                }
            ],
            "execution_count": null
        },
        {
            "cell_type": "code",
            "source": [
                "cdf = data602.read_citations()\n",
                "wdf = data602.read_weather()"
            ],
            "metadata": {
                "id": "k6KwqWpM5VqR",
                "azdata_cell_guid": "0946d775-6bf1-4081-97ac-2a6ee9af7e8c",
                "language": "python",
                "tags": [
                    "hide_input"
                ]
            },
            "outputs": [],
            "execution_count": null
        },
        {
            "cell_type": "markdown",
            "source": [
                "## Question 1"
            ],
            "metadata": {
                "id": "ukRW9IhlWBbt",
                "azdata_cell_guid": "e9a91fd8-bb41-455c-a252-d592f04b417d"
            }
        },
        {
            "cell_type": "markdown",
            "source": [
                "Using the `weather` dataset, construct a derived data frame having the following qualities:\n",
                "\n",
                "1. Each row represents an observation day\n",
                "2. Each column represents an hourly temperature observation.  That is, the dataframe includes 24 columns of the form `tmpmeasx`\twhere x ranges from 0 to 23 and represents the observation taken that hour.  (For changes from daylight savings time to standard time, there are two observations at the 1:00 hour (local).  You may discard one of the values arbitrarily.)"
            ],
            "metadata": {
                "id": "7o61g4aGWFYr",
                "azdata_cell_guid": "2097b7dd-2d26-49b2-89de-c9a0f431069f"
            }
        },
        {
            "cell_type": "code",
            "source": [
                "# get dataset\n",
                "w = (wdf\n",
                "  .assign(dt = wdf.date.dt.date)\n",
                "  .assign(hr = wdf.date.dt.hour)\n",
                ")[[\"dt\", \"hr\", \"tmp_meas\"]]\n",
                "\n",
                "# find and remove duplicate entries\n",
                "w = w[~w.duplicated([\"dt\", \"hr\"])]\n",
                "\n",
                "# reshape\n",
                "wpv = w.pivot(index = \"dt\", columns=\"hr\", values=\"tmp_meas\")\n",
                "#rename columns\n",
                "wpv.columns = [f\"tmpmeas{x}\" if type(x) is int else x for x in wpv.columns]\n",
                "wpv"
            ],
            "metadata": {
                "id": "22t1epoto5JX",
                "colab": {
                    "base_uri": "https://localhost:8080/",
                    "height": 692
                },
                "executionInfo": {
                    "status": "ok",
                    "timestamp": 1646104440551,
                    "user_tz": 300,
                    "elapsed": 163,
                    "user": {
                        "displayName": "Satyaki Dixit",
                        "photoUrl": "https://lh3.googleusercontent.com/a-/AOh14GjBMxL9VHlVvOM_oyDrrWNqE_B80R1JWvSaxUY=s64",
                        "userId": "05198849980828769987"
                    }
                },
                "outputId": "2f5248e7-3654-4634-bc10-a0f61fc40511",
                "azdata_cell_guid": "b1d3c13a-bee3-4a67-a98a-9bc77eeba810",
                "language": "python"
            },
            "outputs": [
                {
                    "output_type": "execute_result",
                    "execution_count": 17,
                    "data": {
                        "text/html": "\n  <div id=\"df-77f0a211-9d53-4ba0-84fb-724e2539a1c4\">\n    <div class=\"colab-df-container\">\n      <div>\n<style scoped>\n    .dataframe tbody tr th:only-of-type {\n        vertical-align: middle;\n    }\n\n    .dataframe tbody tr th {\n        vertical-align: top;\n    }\n\n    .dataframe thead th {\n        text-align: right;\n    }\n</style>\n<table border=\"1\" class=\"dataframe\">\n  <thead>\n    <tr style=\"text-align: right;\">\n      <th></th>\n      <th>tmpmeas0</th>\n      <th>tmpmeas1</th>\n      <th>tmpmeas2</th>\n      <th>tmpmeas3</th>\n      <th>tmpmeas4</th>\n      <th>tmpmeas5</th>\n      <th>tmpmeas6</th>\n      <th>tmpmeas7</th>\n      <th>tmpmeas8</th>\n      <th>tmpmeas9</th>\n      <th>tmpmeas10</th>\n      <th>tmpmeas11</th>\n      <th>tmpmeas12</th>\n      <th>tmpmeas13</th>\n      <th>tmpmeas14</th>\n      <th>tmpmeas15</th>\n      <th>tmpmeas16</th>\n      <th>tmpmeas17</th>\n      <th>tmpmeas18</th>\n      <th>tmpmeas19</th>\n      <th>tmpmeas20</th>\n      <th>tmpmeas21</th>\n      <th>tmpmeas22</th>\n      <th>tmpmeas23</th>\n    </tr>\n    <tr>\n      <th>dt</th>\n      <th></th>\n      <th></th>\n      <th></th>\n      <th></th>\n      <th></th>\n      <th></th>\n      <th></th>\n      <th></th>\n      <th></th>\n      <th></th>\n      <th></th>\n      <th></th>\n      <th></th>\n      <th></th>\n      <th></th>\n      <th></th>\n      <th></th>\n      <th></th>\n      <th></th>\n      <th></th>\n      <th></th>\n      <th></th>\n      <th></th>\n      <th></th>\n    </tr>\n  </thead>\n  <tbody>\n    <tr>\n      <th>2015-12-31</th>\n      <td>NaN</td>\n      <td>NaN</td>\n      <td>NaN</td>\n      <td>NaN</td>\n      <td>NaN</td>\n      <td>NaN</td>\n      <td>NaN</td>\n      <td>NaN</td>\n      <td>NaN</td>\n      <td>NaN</td>\n      <td>NaN</td>\n      <td>NaN</td>\n      <td>NaN</td>\n      <td>NaN</td>\n      <td>NaN</td>\n      <td>NaN</td>\n      <td>NaN</td>\n      <td>NaN</td>\n      <td>NaN</td>\n      <td>7.2</td>\n      <td>6.1</td>\n      <td>6.7</td>\n      <td>6.1</td>\n      <td>5.6</td>\n    </tr>\n    <tr>\n      <th>2016-01-01</th>\n      <td>5.0</td>\n      <td>4.4</td>\n      <td>3.9</td>\n      <td>3.3</td>\n      <td>3.3</td>\n      <td>4.4</td>\n      <td>3.9</td>\n      <td>3.9</td>\n      <td>4.4</td>\n      <td>5.6</td>\n      <td>5.6</td>\n      <td>6.7</td>\n      <td>6.7</td>\n      <td>6.1</td>\n      <td>5.6</td>\n      <td>5.0</td>\n      <td>4.4</td>\n      <td>3.9</td>\n      <td>2.2</td>\n      <td>1.1</td>\n      <td>0.6</td>\n      <td>-0.6</td>\n      <td>0.6</td>\n      <td>0.6</td>\n    </tr>\n    <tr>\n      <th>2016-01-02</th>\n      <td>-0.6</td>\n      <td>-1.7</td>\n      <td>-1.7</td>\n      <td>-0.6</td>\n      <td>-2.8</td>\n      <td>-2.2</td>\n      <td>-2.8</td>\n      <td>-2.2</td>\n      <td>1.1</td>\n      <td>3.3</td>\n      <td>5.0</td>\n      <td>6.1</td>\n      <td>7.2</td>\n      <td>8.3</td>\n      <td>8.3</td>\n      <td>7.8</td>\n      <td>6.1</td>\n      <td>3.9</td>\n      <td>2.2</td>\n      <td>1.7</td>\n      <td>0.6</td>\n      <td>0.0</td>\n      <td>-1.1</td>\n      <td>-1.7</td>\n    </tr>\n    <tr>\n      <th>2016-01-03</th>\n      <td>-1.7</td>\n      <td>-1.7</td>\n      <td>-2.2</td>\n      <td>-2.8</td>\n      <td>-2.8</td>\n      <td>-0.6</td>\n      <td>-1.1</td>\n      <td>-2.8</td>\n      <td>1.7</td>\n      <td>5.6</td>\n      <td>7.8</td>\n      <td>9.4</td>\n      <td>10.0</td>\n      <td>10.0</td>\n      <td>11.1</td>\n      <td>10.6</td>\n      <td>8.9</td>\n      <td>5.6</td>\n      <td>3.9</td>\n      <td>2.8</td>\n      <td>1.7</td>\n      <td>0.6</td>\n      <td>0.0</td>\n      <td>-1.1</td>\n    </tr>\n    <tr>\n      <th>2016-01-04</th>\n      <td>-2.2</td>\n      <td>-1.7</td>\n      <td>-2.8</td>\n      <td>-1.7</td>\n      <td>0.0</td>\n      <td>0.0</td>\n      <td>0.6</td>\n      <td>0.6</td>\n      <td>0.6</td>\n      <td>0.0</td>\n      <td>1.1</td>\n      <td>2.2</td>\n      <td>2.2</td>\n      <td>1.7</td>\n      <td>1.1</td>\n      <td>0.0</td>\n      <td>-1.7</td>\n      <td>-2.2</td>\n      <td>-2.8</td>\n      <td>-3.3</td>\n      <td>-5.0</td>\n      <td>-6.1</td>\n      <td>-7.2</td>\n      <td>-8.3</td>\n    </tr>\n    <tr>\n      <th>...</th>\n      <td>...</td>\n      <td>...</td>\n      <td>...</td>\n      <td>...</td>\n      <td>...</td>\n      <td>...</td>\n      <td>...</td>\n      <td>...</td>\n      <td>...</td>\n      <td>...</td>\n      <td>...</td>\n      <td>...</td>\n      <td>...</td>\n      <td>...</td>\n      <td>...</td>\n      <td>...</td>\n      <td>...</td>\n      <td>...</td>\n      <td>...</td>\n      <td>...</td>\n      <td>...</td>\n      <td>...</td>\n      <td>...</td>\n      <td>...</td>\n    </tr>\n    <tr>\n      <th>2021-07-12</th>\n      <td>26.7</td>\n      <td>26.7</td>\n      <td>26.1</td>\n      <td>25.6</td>\n      <td>25.6</td>\n      <td>25.0</td>\n      <td>25.6</td>\n      <td>26.1</td>\n      <td>28.3</td>\n      <td>30.0</td>\n      <td>30.6</td>\n      <td>32.2</td>\n      <td>33.3</td>\n      <td>33.3</td>\n      <td>34.4</td>\n      <td>35.0</td>\n      <td>34.4</td>\n      <td>33.3</td>\n      <td>32.2</td>\n      <td>28.9</td>\n      <td>27.8</td>\n      <td>27.2</td>\n      <td>27.8</td>\n      <td>26.1</td>\n    </tr>\n    <tr>\n      <th>2021-07-13</th>\n      <td>26.1</td>\n      <td>26.1</td>\n      <td>25.0</td>\n      <td>24.4</td>\n      <td>25.6</td>\n      <td>25.6</td>\n      <td>25.6</td>\n      <td>27.2</td>\n      <td>28.9</td>\n      <td>31.1</td>\n      <td>32.2</td>\n      <td>33.3</td>\n      <td>33.3</td>\n      <td>34.4</td>\n      <td>34.4</td>\n      <td>35.0</td>\n      <td>34.4</td>\n      <td>34.4</td>\n      <td>32.8</td>\n      <td>31.7</td>\n      <td>30.6</td>\n      <td>29.4</td>\n      <td>28.9</td>\n      <td>28.3</td>\n    </tr>\n    <tr>\n      <th>2021-07-14</th>\n      <td>28.3</td>\n      <td>27.8</td>\n      <td>27.8</td>\n      <td>26.7</td>\n      <td>26.1</td>\n      <td>24.4</td>\n      <td>25.6</td>\n      <td>27.8</td>\n      <td>29.4</td>\n      <td>31.7</td>\n      <td>32.8</td>\n      <td>33.3</td>\n      <td>34.4</td>\n      <td>33.3</td>\n      <td>33.9</td>\n      <td>34.4</td>\n      <td>31.7</td>\n      <td>29.4</td>\n      <td>28.9</td>\n      <td>28.3</td>\n      <td>26.1</td>\n      <td>25.6</td>\n      <td>24.4</td>\n      <td>23.9</td>\n    </tr>\n    <tr>\n      <th>2021-07-15</th>\n      <td>23.9</td>\n      <td>23.3</td>\n      <td>22.8</td>\n      <td>22.2</td>\n      <td>21.7</td>\n      <td>22.2</td>\n      <td>22.8</td>\n      <td>25.0</td>\n      <td>26.7</td>\n      <td>28.9</td>\n      <td>30.6</td>\n      <td>32.2</td>\n      <td>33.3</td>\n      <td>33.9</td>\n      <td>34.4</td>\n      <td>33.9</td>\n      <td>32.8</td>\n      <td>32.2</td>\n      <td>31.1</td>\n      <td>30.0</td>\n      <td>29.4</td>\n      <td>28.9</td>\n      <td>28.3</td>\n      <td>27.8</td>\n    </tr>\n    <tr>\n      <th>2021-07-16</th>\n      <td>26.7</td>\n      <td>26.1</td>\n      <td>25.6</td>\n      <td>25.6</td>\n      <td>25.0</td>\n      <td>24.4</td>\n      <td>24.4</td>\n      <td>27.2</td>\n      <td>30.0</td>\n      <td>32.2</td>\n      <td>33.3</td>\n      <td>34.4</td>\n      <td>35.6</td>\n      <td>36.1</td>\n      <td>35.0</td>\n      <td>36.7</td>\n      <td>35.6</td>\n      <td>33.3</td>\n      <td>32.8</td>\n      <td>31.7</td>\n      <td>NaN</td>\n      <td>NaN</td>\n      <td>NaN</td>\n      <td>NaN</td>\n    </tr>\n  </tbody>\n</table>\n<p>2025 rows × 24 columns</p>\n</div>\n      <button class=\"colab-df-convert\" onclick=\"convertToInteractive('df-77f0a211-9d53-4ba0-84fb-724e2539a1c4')\"\n              title=\"Convert this dataframe to an interactive table.\"\n              style=\"display:none;\">\n        \n  <svg xmlns=\"http://www.w3.org/2000/svg\" height=\"24px\"viewBox=\"0 0 24 24\"\n       width=\"24px\">\n    <path d=\"M0 0h24v24H0V0z\" fill=\"none\"/>\n    <path d=\"M18.56 5.44l.94 2.06.94-2.06 2.06-.94-2.06-.94-.94-2.06-.94 2.06-2.06.94zm-11 1L8.5 8.5l.94-2.06 2.06-.94-2.06-.94L8.5 2.5l-.94 2.06-2.06.94zm10 10l.94 2.06.94-2.06 2.06-.94-2.06-.94-.94-2.06-.94 2.06-2.06.94z\"/><path d=\"M17.41 7.96l-1.37-1.37c-.4-.4-.92-.59-1.43-.59-.52 0-1.04.2-1.43.59L10.3 9.45l-7.72 7.72c-.78.78-.78 2.05 0 2.83L4 21.41c.39.39.9.59 1.41.59.51 0 1.02-.2 1.41-.59l7.78-7.78 2.81-2.81c.8-.78.8-2.07 0-2.86zM5.41 20L4 18.59l7.72-7.72 1.47 1.35L5.41 20z\"/>\n  </svg>\n      </button>\n      \n  <style>\n    .colab-df-container {\n      display:flex;\n      flex-wrap:wrap;\n      gap: 12px;\n    }\n\n    .colab-df-convert {\n      background-color: #E8F0FE;\n      border: none;\n      border-radius: 50%;\n      cursor: pointer;\n      display: none;\n      fill: #1967D2;\n      height: 32px;\n      padding: 0 0 0 0;\n      width: 32px;\n    }\n\n    .colab-df-convert:hover {\n      background-color: #E2EBFA;\n      box-shadow: 0px 1px 2px rgba(60, 64, 67, 0.3), 0px 1px 3px 1px rgba(60, 64, 67, 0.15);\n      fill: #174EA6;\n    }\n\n    [theme=dark] .colab-df-convert {\n      background-color: #3B4455;\n      fill: #D2E3FC;\n    }\n\n    [theme=dark] .colab-df-convert:hover {\n      background-color: #434B5C;\n      box-shadow: 0px 1px 3px 1px rgba(0, 0, 0, 0.15);\n      filter: drop-shadow(0px 1px 2px rgba(0, 0, 0, 0.3));\n      fill: #FFFFFF;\n    }\n  </style>\n\n      <script>\n        const buttonEl =\n          document.querySelector('#df-77f0a211-9d53-4ba0-84fb-724e2539a1c4 button.colab-df-convert');\n        buttonEl.style.display =\n          google.colab.kernel.accessAllowed ? 'block' : 'none';\n\n        async function convertToInteractive(key) {\n          const element = document.querySelector('#df-77f0a211-9d53-4ba0-84fb-724e2539a1c4');\n          const dataTable =\n            await google.colab.kernel.invokeFunction('convertToInteractive',\n                                                     [key], {});\n          if (!dataTable) return;\n\n          const docLinkHtml = 'Like what you see? Visit the ' +\n            '<a target=\"_blank\" href=https://colab.research.google.com/notebooks/data_table.ipynb>data table notebook</a>'\n            + ' to learn more about interactive tables.';\n          element.innerHTML = '';\n          dataTable['output_type'] = 'display_data';\n          await google.colab.output.renderOutput(dataTable, element);\n          const docLink = document.createElement('div');\n          docLink.innerHTML = docLinkHtml;\n          element.appendChild(docLink);\n        }\n      </script>\n    </div>\n  </div>\n  ",
                        "text/plain": "            tmpmeas0  tmpmeas1  tmpmeas2  ...  tmpmeas21  tmpmeas22  tmpmeas23\ndt                                        ...                                 \n2015-12-31       NaN       NaN       NaN  ...        6.7        6.1        5.6\n2016-01-01       5.0       4.4       3.9  ...       -0.6        0.6        0.6\n2016-01-02      -0.6      -1.7      -1.7  ...        0.0       -1.1       -1.7\n2016-01-03      -1.7      -1.7      -2.2  ...        0.6        0.0       -1.1\n2016-01-04      -2.2      -1.7      -2.8  ...       -6.1       -7.2       -8.3\n...              ...       ...       ...  ...        ...        ...        ...\n2021-07-12      26.7      26.7      26.1  ...       27.2       27.8       26.1\n2021-07-13      26.1      26.1      25.0  ...       29.4       28.9       28.3\n2021-07-14      28.3      27.8      27.8  ...       25.6       24.4       23.9\n2021-07-15      23.9      23.3      22.8  ...       28.9       28.3       27.8\n2021-07-16      26.7      26.1      25.6  ...        NaN        NaN        NaN\n\n[2025 rows x 24 columns]"
                    },
                    "metadata": {}
                }
            ],
            "execution_count": null
        },
        {
            "cell_type": "markdown",
            "source": [
                "Using this derived dataset, show the average difference in temperature, standard deviation, and max/min values between observations taken in hours 2 (about 2:56am) and 14 (about 14:56, or 2:56pm)."
            ],
            "metadata": {
                "id": "v-Cz9hP0Xtvr",
                "azdata_cell_guid": "07032a43-e61e-40c4-867c-2ab9e59aebc4"
            }
        },
        {
            "cell_type": "code",
            "source": [
                "delta = wpv.tmpmeas14 - wpv.tmpmeas2\n",
                "delta.describe()"
            ],
            "metadata": {
                "colab": {
                    "base_uri": "https://localhost:8080/"
                },
                "id": "wHk7AB4pXOyb",
                "executionInfo": {
                    "status": "ok",
                    "timestamp": 1646104440552,
                    "user_tz": 300,
                    "elapsed": 7,
                    "user": {
                        "displayName": "Satyaki Dixit",
                        "photoUrl": "https://lh3.googleusercontent.com/a-/AOh14GjBMxL9VHlVvOM_oyDrrWNqE_B80R1JWvSaxUY=s64",
                        "userId": "05198849980828769987"
                    }
                },
                "outputId": "46bf65e4-98ed-4156-cd44-76e01dffa54f",
                "azdata_cell_guid": "3631f09b-a62d-4a11-b7b1-59be9dfd71c3",
                "language": "python"
            },
            "outputs": [
                {
                    "output_type": "execute_result",
                    "execution_count": 18,
                    "data": {
                        "text/plain": "count    2018.000000\nmean        7.053122\nstd         4.846646\nmin       -12.200000\n25%         3.900000\n50%         7.200000\n75%        10.500000\nmax        22.800000\ndtype: float64"
                    },
                    "metadata": {}
                }
            ],
            "execution_count": null
        },
        {
            "cell_type": "markdown",
            "source": [
                "The average temperature delta is 7.05°C, with a standard deviation of 4.8°C.  The lowest delta is -12.2°C, and highest is 22.8°C.\n",
                "\n",
                "(Not required for scoring: the lowest delta occured on 25 December 2020, when the temperature dropped throughout the day along the Eastern U.S.  The highest delta was recorded on Feb 18, 2017, where the temperature increased from -1.7°C at the 2am reading to 21.1°C at the 2pm reading.)"
            ],
            "metadata": {
                "id": "jKFaoj3uYUS_",
                "azdata_cell_guid": "4844e919-6762-4af7-9116-c8f8a7101164"
            }
        },
        {
            "cell_type": "code",
            "source": [
                "wpv.loc[[delta.idxmin(), delta.idxmax()]]"
            ],
            "metadata": {
                "id": "mFI3CVGJo4Q1",
                "colab": {
                    "base_uri": "https://localhost:8080/",
                    "height": 242
                },
                "executionInfo": {
                    "status": "ok",
                    "timestamp": 1646104440686,
                    "user_tz": 300,
                    "elapsed": 140,
                    "user": {
                        "displayName": "Satyaki Dixit",
                        "photoUrl": "https://lh3.googleusercontent.com/a-/AOh14GjBMxL9VHlVvOM_oyDrrWNqE_B80R1JWvSaxUY=s64",
                        "userId": "05198849980828769987"
                    }
                },
                "outputId": "c21bf3d6-3728-423c-fdfc-3b5ff241951d",
                "azdata_cell_guid": "4addb184-4012-4d6b-86ec-2a9a5338a77d",
                "language": "python"
            },
            "outputs": [
                {
                    "output_type": "execute_result",
                    "execution_count": 19,
                    "data": {
                        "text/html": "\n  <div id=\"df-90ba2bf5-29eb-4d2d-8f4d-57319daf4aab\">\n    <div class=\"colab-df-container\">\n      <div>\n<style scoped>\n    .dataframe tbody tr th:only-of-type {\n        vertical-align: middle;\n    }\n\n    .dataframe tbody tr th {\n        vertical-align: top;\n    }\n\n    .dataframe thead th {\n        text-align: right;\n    }\n</style>\n<table border=\"1\" class=\"dataframe\">\n  <thead>\n    <tr style=\"text-align: right;\">\n      <th></th>\n      <th>tmpmeas0</th>\n      <th>tmpmeas1</th>\n      <th>tmpmeas2</th>\n      <th>tmpmeas3</th>\n      <th>tmpmeas4</th>\n      <th>tmpmeas5</th>\n      <th>tmpmeas6</th>\n      <th>tmpmeas7</th>\n      <th>tmpmeas8</th>\n      <th>tmpmeas9</th>\n      <th>tmpmeas10</th>\n      <th>tmpmeas11</th>\n      <th>tmpmeas12</th>\n      <th>tmpmeas13</th>\n      <th>tmpmeas14</th>\n      <th>tmpmeas15</th>\n      <th>tmpmeas16</th>\n      <th>tmpmeas17</th>\n      <th>tmpmeas18</th>\n      <th>tmpmeas19</th>\n      <th>tmpmeas20</th>\n      <th>tmpmeas21</th>\n      <th>tmpmeas22</th>\n      <th>tmpmeas23</th>\n    </tr>\n    <tr>\n      <th>dt</th>\n      <th></th>\n      <th></th>\n      <th></th>\n      <th></th>\n      <th></th>\n      <th></th>\n      <th></th>\n      <th></th>\n      <th></th>\n      <th></th>\n      <th></th>\n      <th></th>\n      <th></th>\n      <th></th>\n      <th></th>\n      <th></th>\n      <th></th>\n      <th></th>\n      <th></th>\n      <th></th>\n      <th></th>\n      <th></th>\n      <th></th>\n      <th></th>\n    </tr>\n  </thead>\n  <tbody>\n    <tr>\n      <th>2020-12-25</th>\n      <td>14.4</td>\n      <td>13.3</td>\n      <td>12.8</td>\n      <td>8.9</td>\n      <td>6.1</td>\n      <td>2.8</td>\n      <td>1.7</td>\n      <td>1.1</td>\n      <td>1.1</td>\n      <td>1.1</td>\n      <td>0.0</td>\n      <td>0.0</td>\n      <td>0.0</td>\n      <td>0.0</td>\n      <td>0.6</td>\n      <td>-0.6</td>\n      <td>-1.1</td>\n      <td>-1.1</td>\n      <td>-2.2</td>\n      <td>-3.3</td>\n      <td>-3.9</td>\n      <td>-3.9</td>\n      <td>-3.9</td>\n      <td>-4.4</td>\n    </tr>\n    <tr>\n      <th>2017-02-18</th>\n      <td>-1.1</td>\n      <td>-2.2</td>\n      <td>-1.7</td>\n      <td>-1.7</td>\n      <td>-2.2</td>\n      <td>-1.7</td>\n      <td>-2.8</td>\n      <td>1.7</td>\n      <td>6.1</td>\n      <td>11.1</td>\n      <td>16.1</td>\n      <td>19.4</td>\n      <td>20.0</td>\n      <td>20.6</td>\n      <td>21.1</td>\n      <td>20.6</td>\n      <td>19.4</td>\n      <td>17.8</td>\n      <td>16.1</td>\n      <td>12.8</td>\n      <td>11.1</td>\n      <td>14.4</td>\n      <td>15.0</td>\n      <td>13.9</td>\n    </tr>\n  </tbody>\n</table>\n</div>\n      <button class=\"colab-df-convert\" onclick=\"convertToInteractive('df-90ba2bf5-29eb-4d2d-8f4d-57319daf4aab')\"\n              title=\"Convert this dataframe to an interactive table.\"\n              style=\"display:none;\">\n        \n  <svg xmlns=\"http://www.w3.org/2000/svg\" height=\"24px\"viewBox=\"0 0 24 24\"\n       width=\"24px\">\n    <path d=\"M0 0h24v24H0V0z\" fill=\"none\"/>\n    <path d=\"M18.56 5.44l.94 2.06.94-2.06 2.06-.94-2.06-.94-.94-2.06-.94 2.06-2.06.94zm-11 1L8.5 8.5l.94-2.06 2.06-.94-2.06-.94L8.5 2.5l-.94 2.06-2.06.94zm10 10l.94 2.06.94-2.06 2.06-.94-2.06-.94-.94-2.06-.94 2.06-2.06.94z\"/><path d=\"M17.41 7.96l-1.37-1.37c-.4-.4-.92-.59-1.43-.59-.52 0-1.04.2-1.43.59L10.3 9.45l-7.72 7.72c-.78.78-.78 2.05 0 2.83L4 21.41c.39.39.9.59 1.41.59.51 0 1.02-.2 1.41-.59l7.78-7.78 2.81-2.81c.8-.78.8-2.07 0-2.86zM5.41 20L4 18.59l7.72-7.72 1.47 1.35L5.41 20z\"/>\n  </svg>\n      </button>\n      \n  <style>\n    .colab-df-container {\n      display:flex;\n      flex-wrap:wrap;\n      gap: 12px;\n    }\n\n    .colab-df-convert {\n      background-color: #E8F0FE;\n      border: none;\n      border-radius: 50%;\n      cursor: pointer;\n      display: none;\n      fill: #1967D2;\n      height: 32px;\n      padding: 0 0 0 0;\n      width: 32px;\n    }\n\n    .colab-df-convert:hover {\n      background-color: #E2EBFA;\n      box-shadow: 0px 1px 2px rgba(60, 64, 67, 0.3), 0px 1px 3px 1px rgba(60, 64, 67, 0.15);\n      fill: #174EA6;\n    }\n\n    [theme=dark] .colab-df-convert {\n      background-color: #3B4455;\n      fill: #D2E3FC;\n    }\n\n    [theme=dark] .colab-df-convert:hover {\n      background-color: #434B5C;\n      box-shadow: 0px 1px 3px 1px rgba(0, 0, 0, 0.15);\n      filter: drop-shadow(0px 1px 2px rgba(0, 0, 0, 0.3));\n      fill: #FFFFFF;\n    }\n  </style>\n\n      <script>\n        const buttonEl =\n          document.querySelector('#df-90ba2bf5-29eb-4d2d-8f4d-57319daf4aab button.colab-df-convert');\n        buttonEl.style.display =\n          google.colab.kernel.accessAllowed ? 'block' : 'none';\n\n        async function convertToInteractive(key) {\n          const element = document.querySelector('#df-90ba2bf5-29eb-4d2d-8f4d-57319daf4aab');\n          const dataTable =\n            await google.colab.kernel.invokeFunction('convertToInteractive',\n                                                     [key], {});\n          if (!dataTable) return;\n\n          const docLinkHtml = 'Like what you see? Visit the ' +\n            '<a target=\"_blank\" href=https://colab.research.google.com/notebooks/data_table.ipynb>data table notebook</a>'\n            + ' to learn more about interactive tables.';\n          element.innerHTML = '';\n          dataTable['output_type'] = 'display_data';\n          await google.colab.output.renderOutput(dataTable, element);\n          const docLink = document.createElement('div');\n          docLink.innerHTML = docLinkHtml;\n          element.appendChild(docLink);\n        }\n      </script>\n    </div>\n  </div>\n  ",
                        "text/plain": "            tmpmeas0  tmpmeas1  tmpmeas2  ...  tmpmeas21  tmpmeas22  tmpmeas23\ndt                                        ...                                 \n2020-12-25      14.4      13.3      12.8  ...       -3.9       -3.9       -4.4\n2017-02-18      -1.1      -2.2      -1.7  ...       14.4       15.0       13.9\n\n[2 rows x 24 columns]"
                    },
                    "metadata": {}
                }
            ],
            "execution_count": null
        },
        {
            "cell_type": "markdown",
            "source": [
                "## Question 2\n",
                "\n",
                "Circular data and One-Hot Encoding} Open and clean the `citations` data frame using the script provided, and discard records where the violation timestamp is not between January 1, 2020 and July 1, 2021.\n"
            ],
            "metadata": {
                "id": "C54Wbpcxarqf",
                "azdata_cell_guid": "3831d1d7-4b53-4e29-adb2-86ff167c6819"
            }
        },
        {
            "cell_type": "code",
            "source": [
                "c = cdf[(cdf.violdate.dt.date >= datetime(2020,1,1).date()) \n",
                "      & (cdf.violdate.dt.date < datetime(2021,7,1).date())]"
            ],
            "metadata": {
                "id": "o4jdBNHkMV76",
                "azdata_cell_guid": "12e4aca2-78d7-4dde-974a-f842c486c97a",
                "language": "python"
            },
            "outputs": [],
            "execution_count": null
        },
        {
            "cell_type": "code",
            "source": [
                "c"
            ],
            "metadata": {
                "colab": {
                    "base_uri": "https://localhost:8080/",
                    "height": 423
                },
                "id": "LEZLhXI1dqtG",
                "executionInfo": {
                    "status": "ok",
                    "timestamp": 1646104502666,
                    "user_tz": 300,
                    "elapsed": 13,
                    "user": {
                        "displayName": "Satyaki Dixit",
                        "photoUrl": "https://lh3.googleusercontent.com/a-/AOh14GjBMxL9VHlVvOM_oyDrrWNqE_B80R1JWvSaxUY=s64",
                        "userId": "05198849980828769987"
                    }
                },
                "outputId": "e69c4e7b-42bd-4082-a6d8-b324ff12bf81",
                "azdata_cell_guid": "b2d3b3f9-f207-4074-88eb-7848fb9f225d",
                "language": "python"
            },
            "outputs": [
                {
                    "output_type": "execute_result",
                    "execution_count": 25,
                    "data": {
                        "text/html": "\n  <div id=\"df-e38761e3-95f3-435e-93e3-3ff86fd21211\">\n    <div class=\"colab-df-container\">\n      <div>\n<style scoped>\n    .dataframe tbody tr th:only-of-type {\n        vertical-align: middle;\n    }\n\n    .dataframe tbody tr th {\n        vertical-align: top;\n    }\n\n    .dataframe thead th {\n        text-align: right;\n    }\n</style>\n<table border=\"1\" class=\"dataframe\">\n  <thead>\n    <tr style=\"text-align: right;\">\n      <th></th>\n      <th>citation</th>\n      <th>tag</th>\n      <th>state</th>\n      <th>violcode</th>\n      <th>description</th>\n      <th>violfine</th>\n      <th>violdate</th>\n      <th>location</th>\n      <th>violdtl</th>\n    </tr>\n  </thead>\n  <tbody>\n    <tr>\n      <th>2627</th>\n      <td>130278</td>\n      <td>19213CD</td>\n      <td>MD</td>\n      <td>27</td>\n      <td>No Stop/Park Street Cleaning</td>\n      <td>52</td>\n      <td>2021-06-06 23:40:00-04:00</td>\n      <td>(39.28997272, -76.61002178)</td>\n      <td>2021-06-06 23:40:00</td>\n    </tr>\n    <tr>\n      <th>2632</th>\n      <td>130344</td>\n      <td>9EL0846</td>\n      <td>MD</td>\n      <td>3</td>\n      <td>Obstruct/Impeding Flow of Traffic</td>\n      <td>102</td>\n      <td>2021-04-03 02:59:00-04:00</td>\n      <td>&lt;NA&gt;</td>\n      <td>2021-04-03 02:59:00</td>\n    </tr>\n    <tr>\n      <th>2633</th>\n      <td>130393</td>\n      <td>2EG0053</td>\n      <td>MD</td>\n      <td>3</td>\n      <td>Obstruct/Impeding Flow of Traffic</td>\n      <td>102</td>\n      <td>2021-04-11 01:30:00-04:00</td>\n      <td>&lt;NA&gt;</td>\n      <td>2021-04-11 01:30:00</td>\n    </tr>\n    <tr>\n      <th>2634</th>\n      <td>130427</td>\n      <td>13381CK</td>\n      <td>MD</td>\n      <td>3</td>\n      <td>Obstruct/Impeding Flow of Traffic</td>\n      <td>102</td>\n      <td>2021-04-11 01:35:00-04:00</td>\n      <td>&lt;NA&gt;</td>\n      <td>2021-04-11 01:35:00</td>\n    </tr>\n    <tr>\n      <th>2635</th>\n      <td>130435</td>\n      <td>1EC9345</td>\n      <td>MD</td>\n      <td>3</td>\n      <td>Obstruct/Impeding Flow of Traffic</td>\n      <td>102</td>\n      <td>2021-04-11 01:36:00-04:00</td>\n      <td>&lt;NA&gt;</td>\n      <td>2021-04-11 01:36:00</td>\n    </tr>\n    <tr>\n      <th>...</th>\n      <td>...</td>\n      <td>...</td>\n      <td>...</td>\n      <td>...</td>\n      <td>...</td>\n      <td>...</td>\n      <td>...</td>\n      <td>...</td>\n      <td>...</td>\n    </tr>\n    <tr>\n      <th>3444247</th>\n      <td>78829488</td>\n      <td>6CR1677</td>\n      <td>MD</td>\n      <td>22</td>\n      <td>Expired Tags</td>\n      <td>32</td>\n      <td>2021-01-27 13:30:00-05:00</td>\n      <td>&lt;NA&gt;</td>\n      <td>2021-01-27 13:30:00</td>\n    </tr>\n    <tr>\n      <th>3444248</th>\n      <td>78829496</td>\n      <td>751026</td>\n      <td>MD</td>\n      <td>8</td>\n      <td>No Stopping/Standing Tow Away Zone</td>\n      <td>52</td>\n      <td>2021-01-27 13:39:00-05:00</td>\n      <td>&lt;NA&gt;</td>\n      <td>2021-01-27 13:39:00</td>\n    </tr>\n    <tr>\n      <th>3452403</th>\n      <td>79827523</td>\n      <td>HIPY83</td>\n      <td>FL</td>\n      <td>8</td>\n      <td>No Stopping/Standing Tow Away Zone</td>\n      <td>52</td>\n      <td>2020-07-31 12:00:00-04:00</td>\n      <td>&lt;NA&gt;</td>\n      <td>2020-07-31 12:00:00</td>\n    </tr>\n    <tr>\n      <th>3452404</th>\n      <td>79827531</td>\n      <td>9DH4142</td>\n      <td>MD</td>\n      <td>99</td>\n      <td>All Other Stopping or Parking Violations</td>\n      <td>32</td>\n      <td>2021-03-16 08:00:00-04:00</td>\n      <td>&lt;NA&gt;</td>\n      <td>2021-03-16 08:00:00</td>\n    </tr>\n    <tr>\n      <th>3452825</th>\n      <td>79915153</td>\n      <td>4AZ7470</td>\n      <td>MD</td>\n      <td>17</td>\n      <td>Less Than 15 feet from Fire Hydrant</td>\n      <td>77</td>\n      <td>2020-09-23 09:20:00-04:00</td>\n      <td>&lt;NA&gt;</td>\n      <td>2020-09-23 09:20:00</td>\n    </tr>\n  </tbody>\n</table>\n<p>1477112 rows × 9 columns</p>\n</div>\n      <button class=\"colab-df-convert\" onclick=\"convertToInteractive('df-e38761e3-95f3-435e-93e3-3ff86fd21211')\"\n              title=\"Convert this dataframe to an interactive table.\"\n              style=\"display:none;\">\n        \n  <svg xmlns=\"http://www.w3.org/2000/svg\" height=\"24px\"viewBox=\"0 0 24 24\"\n       width=\"24px\">\n    <path d=\"M0 0h24v24H0V0z\" fill=\"none\"/>\n    <path d=\"M18.56 5.44l.94 2.06.94-2.06 2.06-.94-2.06-.94-.94-2.06-.94 2.06-2.06.94zm-11 1L8.5 8.5l.94-2.06 2.06-.94-2.06-.94L8.5 2.5l-.94 2.06-2.06.94zm10 10l.94 2.06.94-2.06 2.06-.94-2.06-.94-.94-2.06-.94 2.06-2.06.94z\"/><path d=\"M17.41 7.96l-1.37-1.37c-.4-.4-.92-.59-1.43-.59-.52 0-1.04.2-1.43.59L10.3 9.45l-7.72 7.72c-.78.78-.78 2.05 0 2.83L4 21.41c.39.39.9.59 1.41.59.51 0 1.02-.2 1.41-.59l7.78-7.78 2.81-2.81c.8-.78.8-2.07 0-2.86zM5.41 20L4 18.59l7.72-7.72 1.47 1.35L5.41 20z\"/>\n  </svg>\n      </button>\n      \n  <style>\n    .colab-df-container {\n      display:flex;\n      flex-wrap:wrap;\n      gap: 12px;\n    }\n\n    .colab-df-convert {\n      background-color: #E8F0FE;\n      border: none;\n      border-radius: 50%;\n      cursor: pointer;\n      display: none;\n      fill: #1967D2;\n      height: 32px;\n      padding: 0 0 0 0;\n      width: 32px;\n    }\n\n    .colab-df-convert:hover {\n      background-color: #E2EBFA;\n      box-shadow: 0px 1px 2px rgba(60, 64, 67, 0.3), 0px 1px 3px 1px rgba(60, 64, 67, 0.15);\n      fill: #174EA6;\n    }\n\n    [theme=dark] .colab-df-convert {\n      background-color: #3B4455;\n      fill: #D2E3FC;\n    }\n\n    [theme=dark] .colab-df-convert:hover {\n      background-color: #434B5C;\n      box-shadow: 0px 1px 3px 1px rgba(0, 0, 0, 0.15);\n      filter: drop-shadow(0px 1px 2px rgba(0, 0, 0, 0.3));\n      fill: #FFFFFF;\n    }\n  </style>\n\n      <script>\n        const buttonEl =\n          document.querySelector('#df-e38761e3-95f3-435e-93e3-3ff86fd21211 button.colab-df-convert');\n        buttonEl.style.display =\n          google.colab.kernel.accessAllowed ? 'block' : 'none';\n\n        async function convertToInteractive(key) {\n          const element = document.querySelector('#df-e38761e3-95f3-435e-93e3-3ff86fd21211');\n          const dataTable =\n            await google.colab.kernel.invokeFunction('convertToInteractive',\n                                                     [key], {});\n          if (!dataTable) return;\n\n          const docLinkHtml = 'Like what you see? Visit the ' +\n            '<a target=\"_blank\" href=https://colab.research.google.com/notebooks/data_table.ipynb>data table notebook</a>'\n            + ' to learn more about interactive tables.';\n          element.innerHTML = '';\n          dataTable['output_type'] = 'display_data';\n          await google.colab.output.renderOutput(dataTable, element);\n          const docLink = document.createElement('div');\n          docLink.innerHTML = docLinkHtml;\n          element.appendChild(docLink);\n        }\n      </script>\n    </div>\n  </div>\n  ",
                        "text/plain": "         citation      tag  ...                     location             violdtl\n2627       130278  19213CD  ...  (39.28997272, -76.61002178) 2021-06-06 23:40:00\n2632       130344  9EL0846  ...                         <NA> 2021-04-03 02:59:00\n2633       130393  2EG0053  ...                         <NA> 2021-04-11 01:30:00\n2634       130427  13381CK  ...                         <NA> 2021-04-11 01:35:00\n2635       130435  1EC9345  ...                         <NA> 2021-04-11 01:36:00\n...           ...      ...  ...                          ...                 ...\n3444247  78829488  6CR1677  ...                         <NA> 2021-01-27 13:30:00\n3444248  78829496   751026  ...                         <NA> 2021-01-27 13:39:00\n3452403  79827523   HIPY83  ...                         <NA> 2020-07-31 12:00:00\n3452404  79827531  9DH4142  ...                         <NA> 2021-03-16 08:00:00\n3452825  79915153  4AZ7470  ...                         <NA> 2020-09-23 09:20:00\n\n[1477112 rows x 9 columns]"
                    },
                    "metadata": {}
                }
            ],
            "execution_count": null
        },
        {
            "cell_type": "markdown",
            "source": [
                "Identify the 5 most common violation types.  Remove from the derivative data frame any violation types not in these 5 most common"
            ],
            "metadata": {
                "id": "aQjfKXt8csxP",
                "azdata_cell_guid": "d596a634-d2a3-43d9-a359-b8b83e0ed975"
            }
        },
        {
            "cell_type": "code",
            "source": [
                "c = c[c.violcode.isin(c[\"violcode\"].value_counts().head(5).index)]"
            ],
            "metadata": {
                "id": "oYKG225kcBqb",
                "azdata_cell_guid": "ecc59816-b96b-43f3-8bb7-f39feb402a6e",
                "language": "python"
            },
            "outputs": [],
            "execution_count": null
        },
        {
            "cell_type": "code",
            "source": [
                "c"
            ],
            "metadata": {
                "id": "h76t2UetfLYZ",
                "executionInfo": {
                    "status": "ok",
                    "timestamp": 1646104722798,
                    "user_tz": 300,
                    "elapsed": 159,
                    "user": {
                        "displayName": "Satyaki Dixit",
                        "photoUrl": "https://lh3.googleusercontent.com/a-/AOh14GjBMxL9VHlVvOM_oyDrrWNqE_B80R1JWvSaxUY=s64",
                        "userId": "05198849980828769987"
                    }
                },
                "outputId": "9615261b-f276-44f9-b520-5f4aa72854a7",
                "colab": {
                    "base_uri": "https://localhost:8080/",
                    "height": 423
                },
                "azdata_cell_guid": "3d2912d1-0e05-4882-bd1e-0326ad03556f",
                "language": "python"
            },
            "outputs": [
                {
                    "output_type": "execute_result",
                    "execution_count": 32,
                    "data": {
                        "text/html": "\n  <div id=\"df-6bc63769-f6e8-4e71-a3bf-8c1f27ba7c2d\">\n    <div class=\"colab-df-container\">\n      <div>\n<style scoped>\n    .dataframe tbody tr th:only-of-type {\n        vertical-align: middle;\n    }\n\n    .dataframe tbody tr th {\n        vertical-align: top;\n    }\n\n    .dataframe thead th {\n        text-align: right;\n    }\n</style>\n<table border=\"1\" class=\"dataframe\">\n  <thead>\n    <tr style=\"text-align: right;\">\n      <th></th>\n      <th>citation</th>\n      <th>tag</th>\n      <th>state</th>\n      <th>violcode</th>\n      <th>description</th>\n      <th>violfine</th>\n      <th>violdate</th>\n      <th>location</th>\n      <th>violdtl</th>\n    </tr>\n  </thead>\n  <tbody>\n    <tr>\n      <th>2640</th>\n      <td>130484</td>\n      <td>3DM4068</td>\n      <td>MD</td>\n      <td>12</td>\n      <td>No Stopping/Standing Not Tow-Away Zone</td>\n      <td>32</td>\n      <td>2021-06-04 01:35:00-04:00</td>\n      <td>(39.28865729, -76.61323964)</td>\n      <td>2021-06-04 01:35:00</td>\n    </tr>\n    <tr>\n      <th>7318</th>\n      <td>515841</td>\n      <td>7DD3863</td>\n      <td>MD</td>\n      <td>18</td>\n      <td>All Other Parking Meter Violations</td>\n      <td>32</td>\n      <td>2020-05-27 11:15:00-04:00</td>\n      <td>&lt;NA&gt;</td>\n      <td>2020-05-27 11:15:00</td>\n    </tr>\n    <tr>\n      <th>8776</th>\n      <td>604827</td>\n      <td>1ED9532</td>\n      <td>MD</td>\n      <td>12</td>\n      <td>No Stopping/Standing Not Tow-Away Zone</td>\n      <td>32</td>\n      <td>2021-03-10 09:36:00-05:00</td>\n      <td>&lt;NA&gt;</td>\n      <td>2021-03-10 09:36:00</td>\n    </tr>\n    <tr>\n      <th>8818</th>\n      <td>608240</td>\n      <td>2CB7909</td>\n      <td>MD</td>\n      <td>12</td>\n      <td>No Stopping/Standing Not Tow-Away Zone</td>\n      <td>32</td>\n      <td>2020-11-22 15:50:00-05:00</td>\n      <td>&lt;NA&gt;</td>\n      <td>2020-11-22 15:50:00</td>\n    </tr>\n    <tr>\n      <th>18361</th>\n      <td>1213206</td>\n      <td>9AT4802</td>\n      <td>MD</td>\n      <td>12</td>\n      <td>No Stopping/Standing Not Tow-Away Zone</td>\n      <td>32</td>\n      <td>2021-04-16 07:55:00-04:00</td>\n      <td>&lt;NA&gt;</td>\n      <td>2021-04-16 07:55:00</td>\n    </tr>\n    <tr>\n      <th>...</th>\n      <td>...</td>\n      <td>...</td>\n      <td>...</td>\n      <td>...</td>\n      <td>...</td>\n      <td>...</td>\n      <td>...</td>\n      <td>...</td>\n      <td>...</td>\n    </tr>\n    <tr>\n      <th>3387562</th>\n      <td>69999515</td>\n      <td>1EL2879</td>\n      <td>MD</td>\n      <td>12</td>\n      <td>No Stopping/Standing Not Tow-Away Zone</td>\n      <td>32</td>\n      <td>2021-06-16 11:23:00-04:00</td>\n      <td>(39.29417728, -76.61859607)</td>\n      <td>2021-06-16 11:23:00</td>\n    </tr>\n    <tr>\n      <th>3387563</th>\n      <td>69999523</td>\n      <td>72533CJ</td>\n      <td>MD</td>\n      <td>12</td>\n      <td>No Stopping/Standing Not Tow-Away Zone</td>\n      <td>32</td>\n      <td>2021-06-16 11:26:00-04:00</td>\n      <td>(39.29417728, -76.61859607)</td>\n      <td>2021-06-16 11:26:00</td>\n    </tr>\n    <tr>\n      <th>3387564</th>\n      <td>69999531</td>\n      <td>5DL3983</td>\n      <td>MD</td>\n      <td>12</td>\n      <td>No Stopping/Standing Not Tow-Away Zone</td>\n      <td>32</td>\n      <td>2021-06-16 11:28:00-04:00</td>\n      <td>(39.29417728, -76.61859607)</td>\n      <td>2021-06-16 11:28:00</td>\n    </tr>\n    <tr>\n      <th>3387565</th>\n      <td>69999549</td>\n      <td>3BV4229</td>\n      <td>MD</td>\n      <td>18</td>\n      <td>All Other Parking Meter Violations</td>\n      <td>32</td>\n      <td>2021-06-16 11:34:00-04:00</td>\n      <td>(39.29417728, -76.61859607)</td>\n      <td>2021-06-16 11:34:00</td>\n    </tr>\n    <tr>\n      <th>3387566</th>\n      <td>69999556</td>\n      <td>7EE7244</td>\n      <td>MD</td>\n      <td>18</td>\n      <td>All Other Parking Meter Violations</td>\n      <td>32</td>\n      <td>2021-06-16 11:35:00-04:00</td>\n      <td>(39.29417728, -76.61859607)</td>\n      <td>2021-06-16 11:35:00</td>\n    </tr>\n  </tbody>\n</table>\n<p>1354795 rows × 9 columns</p>\n</div>\n      <button class=\"colab-df-convert\" onclick=\"convertToInteractive('df-6bc63769-f6e8-4e71-a3bf-8c1f27ba7c2d')\"\n              title=\"Convert this dataframe to an interactive table.\"\n              style=\"display:none;\">\n        \n  <svg xmlns=\"http://www.w3.org/2000/svg\" height=\"24px\"viewBox=\"0 0 24 24\"\n       width=\"24px\">\n    <path d=\"M0 0h24v24H0V0z\" fill=\"none\"/>\n    <path d=\"M18.56 5.44l.94 2.06.94-2.06 2.06-.94-2.06-.94-.94-2.06-.94 2.06-2.06.94zm-11 1L8.5 8.5l.94-2.06 2.06-.94-2.06-.94L8.5 2.5l-.94 2.06-2.06.94zm10 10l.94 2.06.94-2.06 2.06-.94-2.06-.94-.94-2.06-.94 2.06-2.06.94z\"/><path d=\"M17.41 7.96l-1.37-1.37c-.4-.4-.92-.59-1.43-.59-.52 0-1.04.2-1.43.59L10.3 9.45l-7.72 7.72c-.78.78-.78 2.05 0 2.83L4 21.41c.39.39.9.59 1.41.59.51 0 1.02-.2 1.41-.59l7.78-7.78 2.81-2.81c.8-.78.8-2.07 0-2.86zM5.41 20L4 18.59l7.72-7.72 1.47 1.35L5.41 20z\"/>\n  </svg>\n      </button>\n      \n  <style>\n    .colab-df-container {\n      display:flex;\n      flex-wrap:wrap;\n      gap: 12px;\n    }\n\n    .colab-df-convert {\n      background-color: #E8F0FE;\n      border: none;\n      border-radius: 50%;\n      cursor: pointer;\n      display: none;\n      fill: #1967D2;\n      height: 32px;\n      padding: 0 0 0 0;\n      width: 32px;\n    }\n\n    .colab-df-convert:hover {\n      background-color: #E2EBFA;\n      box-shadow: 0px 1px 2px rgba(60, 64, 67, 0.3), 0px 1px 3px 1px rgba(60, 64, 67, 0.15);\n      fill: #174EA6;\n    }\n\n    [theme=dark] .colab-df-convert {\n      background-color: #3B4455;\n      fill: #D2E3FC;\n    }\n\n    [theme=dark] .colab-df-convert:hover {\n      background-color: #434B5C;\n      box-shadow: 0px 1px 3px 1px rgba(0, 0, 0, 0.15);\n      filter: drop-shadow(0px 1px 2px rgba(0, 0, 0, 0.3));\n      fill: #FFFFFF;\n    }\n  </style>\n\n      <script>\n        const buttonEl =\n          document.querySelector('#df-6bc63769-f6e8-4e71-a3bf-8c1f27ba7c2d button.colab-df-convert');\n        buttonEl.style.display =\n          google.colab.kernel.accessAllowed ? 'block' : 'none';\n\n        async function convertToInteractive(key) {\n          const element = document.querySelector('#df-6bc63769-f6e8-4e71-a3bf-8c1f27ba7c2d');\n          const dataTable =\n            await google.colab.kernel.invokeFunction('convertToInteractive',\n                                                     [key], {});\n          if (!dataTable) return;\n\n          const docLinkHtml = 'Like what you see? Visit the ' +\n            '<a target=\"_blank\" href=https://colab.research.google.com/notebooks/data_table.ipynb>data table notebook</a>'\n            + ' to learn more about interactive tables.';\n          element.innerHTML = '';\n          dataTable['output_type'] = 'display_data';\n          await google.colab.output.renderOutput(dataTable, element);\n          const docLink = document.createElement('div');\n          docLink.innerHTML = docLinkHtml;\n          element.appendChild(docLink);\n        }\n      </script>\n    </div>\n  </div>\n  ",
                        "text/plain": "         citation      tag  ...                     location             violdtl\n2640       130484  3DM4068  ...  (39.28865729, -76.61323964) 2021-06-04 01:35:00\n7318       515841  7DD3863  ...                         <NA> 2020-05-27 11:15:00\n8776       604827  1ED9532  ...                         <NA> 2021-03-10 09:36:00\n8818       608240  2CB7909  ...                         <NA> 2020-11-22 15:50:00\n18361     1213206  9AT4802  ...                         <NA> 2021-04-16 07:55:00\n...           ...      ...  ...                          ...                 ...\n3387562  69999515  1EL2879  ...  (39.29417728, -76.61859607) 2021-06-16 11:23:00\n3387563  69999523  72533CJ  ...  (39.29417728, -76.61859607) 2021-06-16 11:26:00\n3387564  69999531  5DL3983  ...  (39.29417728, -76.61859607) 2021-06-16 11:28:00\n3387565  69999549  3BV4229  ...  (39.29417728, -76.61859607) 2021-06-16 11:34:00\n3387566  69999556  7EE7244  ...  (39.29417728, -76.61859607) 2021-06-16 11:35:00\n\n[1354795 rows x 9 columns]"
                    },
                    "metadata": {}
                }
            ],
            "execution_count": null
        },
        {
            "cell_type": "markdown",
            "source": [
                "Identify the average time of day for each violation in the derivative data frame.  (You must use the circular mean to compute this average.)"
            ],
            "metadata": {
                "id": "6xcUC_kedxYG",
                "azdata_cell_guid": "1626da58-3349-4c6a-900c-49f171972238"
            }
        },
        {
            "cell_type": "code",
            "source": [
                "def timetotheta(hr: int, min: int) -> float:\n",
                "  ratio = (hr * 60 + min) / (23*60+60)\n",
                "  return ratio * 2 * np.pi\n",
                "\n",
                "c[\"timetheta\"] = c.apply(lambda r: \n",
                "                         timetotheta(r[\"violdate\"].hour, r[\"violdate\"].minute),\n",
                "                         axis=1)"
            ],
            "metadata": {
                "id": "AmjZmIgldiyD",
                "azdata_cell_guid": "e941a7d2-e7eb-4ec1-84e3-1c1e3331e2d0",
                "language": "python"
            },
            "outputs": [],
            "execution_count": null
        },
        {
            "cell_type": "code",
            "source": [
                "c[\"ctheta\"] = np.cos(c.timetheta)\n",
                "c[\"stheta\"] = np.sin(c.timetheta)"
            ],
            "metadata": {
                "id": "nxRNlfjrfiww",
                "azdata_cell_guid": "ed23c8cf-cba9-483e-a433-549d82bd0062",
                "language": "python"
            },
            "outputs": [],
            "execution_count": null
        },
        {
            "cell_type": "code",
            "source": [
                "c"
            ],
            "metadata": {
                "colab": {
                    "base_uri": "https://localhost:8080/",
                    "height": 419
                },
                "id": "21MsOmbwkDHM",
                "executionInfo": {
                    "status": "ok",
                    "timestamp": 1631067988456,
                    "user_tz": 240,
                    "elapsed": 173,
                    "user": {
                        "displayName": "Devin Fensterheim",
                        "photoUrl": "",
                        "userId": "06980321290763057089"
                    }
                },
                "outputId": "20f87ad7-6dea-4040-a694-7b6476840d2b",
                "azdata_cell_guid": "338c5da1-bcb5-4e90-be79-9348fea491f5",
                "language": "python"
            },
            "outputs": [
                {
                    "output_type": "execute_result",
                    "execution_count": 11,
                    "data": {
                        "text/html": "<div>\n<style scoped>\n    .dataframe tbody tr th:only-of-type {\n        vertical-align: middle;\n    }\n\n    .dataframe tbody tr th {\n        vertical-align: top;\n    }\n\n    .dataframe thead th {\n        text-align: right;\n    }\n</style>\n<table border=\"1\" class=\"dataframe\">\n  <thead>\n    <tr style=\"text-align: right;\">\n      <th></th>\n      <th>citation</th>\n      <th>tag</th>\n      <th>state</th>\n      <th>violcode</th>\n      <th>description</th>\n      <th>violfine</th>\n      <th>violdate</th>\n      <th>location</th>\n      <th>violdtl</th>\n      <th>timetheta</th>\n      <th>ctheta</th>\n      <th>stheta</th>\n    </tr>\n  </thead>\n  <tbody>\n    <tr>\n      <th>2640</th>\n      <td>130484</td>\n      <td>3DM4068</td>\n      <td>MD</td>\n      <td>12</td>\n      <td>No Stopping/Standing Not Tow-Away Zone</td>\n      <td>32</td>\n      <td>2021-06-04 01:35:00-04:00</td>\n      <td>(39.28865729, -76.61323964)</td>\n      <td>2021-06-04 01:35:00</td>\n      <td>0.414516</td>\n      <td>0.915311</td>\n      <td>0.402747</td>\n    </tr>\n    <tr>\n      <th>7318</th>\n      <td>515841</td>\n      <td>7DD3863</td>\n      <td>MD</td>\n      <td>18</td>\n      <td>All Other Parking Meter Violations</td>\n      <td>32</td>\n      <td>2020-05-27 11:15:00-04:00</td>\n      <td>&lt;NA&gt;</td>\n      <td>2020-05-27 11:15:00</td>\n      <td>2.945243</td>\n      <td>-0.980785</td>\n      <td>0.195090</td>\n    </tr>\n    <tr>\n      <th>8776</th>\n      <td>604827</td>\n      <td>1ED9532</td>\n      <td>MD</td>\n      <td>12</td>\n      <td>No Stopping/Standing Not Tow-Away Zone</td>\n      <td>32</td>\n      <td>2021-03-10 09:36:00-05:00</td>\n      <td>&lt;NA&gt;</td>\n      <td>2021-03-10 09:36:00</td>\n      <td>2.513274</td>\n      <td>-0.809017</td>\n      <td>0.587785</td>\n    </tr>\n    <tr>\n      <th>8818</th>\n      <td>608240</td>\n      <td>2CB7909</td>\n      <td>MD</td>\n      <td>12</td>\n      <td>No Stopping/Standing Not Tow-Away Zone</td>\n      <td>32</td>\n      <td>2020-11-22 15:50:00-05:00</td>\n      <td>&lt;NA&gt;</td>\n      <td>2020-11-22 15:50:00</td>\n      <td>4.145157</td>\n      <td>-0.537300</td>\n      <td>-0.843391</td>\n    </tr>\n    <tr>\n      <th>18361</th>\n      <td>1213206</td>\n      <td>9AT4802</td>\n      <td>MD</td>\n      <td>12</td>\n      <td>No Stopping/Standing Not Tow-Away Zone</td>\n      <td>32</td>\n      <td>2021-04-16 07:55:00-04:00</td>\n      <td>&lt;NA&gt;</td>\n      <td>2021-04-16 07:55:00</td>\n      <td>2.072578</td>\n      <td>-0.480989</td>\n      <td>0.876727</td>\n    </tr>\n    <tr>\n      <th>...</th>\n      <td>...</td>\n      <td>...</td>\n      <td>...</td>\n      <td>...</td>\n      <td>...</td>\n      <td>...</td>\n      <td>...</td>\n      <td>...</td>\n      <td>...</td>\n      <td>...</td>\n      <td>...</td>\n      <td>...</td>\n    </tr>\n    <tr>\n      <th>3387562</th>\n      <td>69999515</td>\n      <td>1EL2879</td>\n      <td>MD</td>\n      <td>12</td>\n      <td>No Stopping/Standing Not Tow-Away Zone</td>\n      <td>32</td>\n      <td>2021-06-16 11:23:00-04:00</td>\n      <td>(39.29417728, -76.61859607)</td>\n      <td>2021-06-16 11:23:00</td>\n      <td>2.980150</td>\n      <td>-0.986996</td>\n      <td>0.160743</td>\n    </tr>\n    <tr>\n      <th>3387563</th>\n      <td>69999523</td>\n      <td>72533CJ</td>\n      <td>MD</td>\n      <td>12</td>\n      <td>No Stopping/Standing Not Tow-Away Zone</td>\n      <td>32</td>\n      <td>2021-06-16 11:26:00-04:00</td>\n      <td>(39.29417728, -76.61859607)</td>\n      <td>2021-06-16 11:26:00</td>\n      <td>2.993240</td>\n      <td>-0.989016</td>\n      <td>0.147809</td>\n    </tr>\n    <tr>\n      <th>3387564</th>\n      <td>69999531</td>\n      <td>5DL3983</td>\n      <td>MD</td>\n      <td>12</td>\n      <td>No Stopping/Standing Not Tow-Away Zone</td>\n      <td>32</td>\n      <td>2021-06-16 11:28:00-04:00</td>\n      <td>(39.29417728, -76.61859607)</td>\n      <td>2021-06-16 11:28:00</td>\n      <td>3.001966</td>\n      <td>-0.990268</td>\n      <td>0.139173</td>\n    </tr>\n    <tr>\n      <th>3387565</th>\n      <td>69999549</td>\n      <td>3BV4229</td>\n      <td>MD</td>\n      <td>18</td>\n      <td>All Other Parking Meter Violations</td>\n      <td>32</td>\n      <td>2021-06-16 11:34:00-04:00</td>\n      <td>(39.29417728, -76.61859607)</td>\n      <td>2021-06-16 11:34:00</td>\n      <td>3.028146</td>\n      <td>-0.993572</td>\n      <td>0.113203</td>\n    </tr>\n    <tr>\n      <th>3387566</th>\n      <td>69999556</td>\n      <td>7EE7244</td>\n      <td>MD</td>\n      <td>18</td>\n      <td>All Other Parking Meter Violations</td>\n      <td>32</td>\n      <td>2021-06-16 11:35:00-04:00</td>\n      <td>(39.29417728, -76.61859607)</td>\n      <td>2021-06-16 11:35:00</td>\n      <td>3.032510</td>\n      <td>-0.994056</td>\n      <td>0.108867</td>\n    </tr>\n  </tbody>\n</table>\n<p>1354795 rows × 12 columns</p>\n</div>",
                        "text/plain": "         citation      tag state  ...  timetheta    ctheta    stheta\n2640       130484  3DM4068    MD  ...   0.414516  0.915311  0.402747\n7318       515841  7DD3863    MD  ...   2.945243 -0.980785  0.195090\n8776       604827  1ED9532    MD  ...   2.513274 -0.809017  0.587785\n8818       608240  2CB7909    MD  ...   4.145157 -0.537300 -0.843391\n18361     1213206  9AT4802    MD  ...   2.072578 -0.480989  0.876727\n...           ...      ...   ...  ...        ...       ...       ...\n3387562  69999515  1EL2879    MD  ...   2.980150 -0.986996  0.160743\n3387563  69999523  72533CJ    MD  ...   2.993240 -0.989016  0.147809\n3387564  69999531  5DL3983    MD  ...   3.001966 -0.990268  0.139173\n3387565  69999549  3BV4229    MD  ...   3.028146 -0.993572  0.113203\n3387566  69999556  7EE7244    MD  ...   3.032510 -0.994056  0.108867\n\n[1354795 rows x 12 columns]"
                    },
                    "metadata": {}
                }
            ],
            "execution_count": null
        },
        {
            "cell_type": "code",
            "source": [
                "@np.vectorize\n",
                "def thetatotime(theta: float) -> (int, int):\n",
                "  theta = theta + (2 * np.pi) if theta < 0 else theta\n",
                "  elapsedmin = np.round(theta/(2 * np.pi) * 24 * 60)\n",
                "  hr, min = np.divmod(elapsedmin, 60)\n",
                "  return f\"{int(hr):02d}:{int(min):02d}\"\n",
                "\n",
                "(\n",
                "    c\n",
                "    .assign(description = c.description.astype(str))\n",
                "    .groupby(\"description\")\n",
                "    .agg({\"ctheta\": \"mean\", \"stheta\": \"mean\"})\n",
                "    .assign(theta = lambda x: np.arctan2(x.stheta, x.ctheta))\n",
                "    .assign(time = lambda x: thetatotime(x.theta))\n",
                ")"
            ],
            "metadata": {
                "colab": {
                    "base_uri": "https://localhost:8080/",
                    "height": 234
                },
                "id": "Da2719WKftCb",
                "executionInfo": {
                    "status": "ok",
                    "timestamp": 1631068202428,
                    "user_tz": 240,
                    "elapsed": 830,
                    "user": {
                        "displayName": "Devin Fensterheim",
                        "photoUrl": "",
                        "userId": "06980321290763057089"
                    }
                },
                "outputId": "183e710c-f6ef-4d4c-d05c-c6b0d8de16e7",
                "azdata_cell_guid": "e162275f-bde0-49a3-abcc-ad8264e5a981",
                "language": "python"
            },
            "outputs": [
                {
                    "output_type": "execute_result",
                    "execution_count": 21,
                    "data": {
                        "text/html": "<div>\n<style scoped>\n    .dataframe tbody tr th:only-of-type {\n        vertical-align: middle;\n    }\n\n    .dataframe tbody tr th {\n        vertical-align: top;\n    }\n\n    .dataframe thead th {\n        text-align: right;\n    }\n</style>\n<table border=\"1\" class=\"dataframe\">\n  <thead>\n    <tr style=\"text-align: right;\">\n      <th></th>\n      <th>ctheta</th>\n      <th>stheta</th>\n      <th>theta</th>\n      <th>time</th>\n    </tr>\n    <tr>\n      <th>description</th>\n      <th></th>\n      <th></th>\n      <th></th>\n      <th></th>\n    </tr>\n  </thead>\n  <tbody>\n    <tr>\n      <th>All Other Parking Meter Violations</th>\n      <td>-0.550090</td>\n      <td>-0.251281</td>\n      <td>-2.713098</td>\n      <td>13:38</td>\n    </tr>\n    <tr>\n      <th>Fixed Speed Camera</th>\n      <td>-0.565468</td>\n      <td>-0.218271</td>\n      <td>-2.773213</td>\n      <td>13:24</td>\n    </tr>\n    <tr>\n      <th>No Stopping/Standing Not Tow-Away Zone</th>\n      <td>-0.248744</td>\n      <td>-0.159145</td>\n      <td>-2.572425</td>\n      <td>14:10</td>\n    </tr>\n    <tr>\n      <th>Red Light Violation</th>\n      <td>-0.339458</td>\n      <td>-0.264350</td>\n      <td>-2.479948</td>\n      <td>14:32</td>\n    </tr>\n    <tr>\n      <th>Right on Red</th>\n      <td>-0.346320</td>\n      <td>-0.190182</td>\n      <td>-2.639401</td>\n      <td>13:55</td>\n    </tr>\n  </tbody>\n</table>\n</div>",
                        "text/plain": "                                          ctheta    stheta     theta   time\ndescription                                                                \nAll Other Parking Meter Violations     -0.550090 -0.251281 -2.713098  13:38\nFixed Speed Camera                     -0.565468 -0.218271 -2.773213  13:24\nNo Stopping/Standing Not Tow-Away Zone -0.248744 -0.159145 -2.572425  14:10\nRed Light Violation                    -0.339458 -0.264350 -2.479948  14:32\nRight on Red                           -0.346320 -0.190182 -2.639401  13:55"
                    },
                    "metadata": {}
                }
            ],
            "execution_count": null
        },
        {
            "cell_type": "markdown",
            "source": [
                "The average times are shown in the table above."
            ],
            "metadata": {
                "id": "Ac_uNcouk-45",
                "azdata_cell_guid": "a298c4a3-fcca-4643-ad18-7a0862c4564f"
            }
        },
        {
            "cell_type": "markdown",
            "source": [
                "The violation type column is a nominal field.  Convert this field to one-hot encoded (OHE) variables, and add these variables to the data frame."
            ],
            "metadata": {
                "id": "uDzsqoVXlKI5",
                "azdata_cell_guid": "2789d0f9-23fa-4e57-8b47-728ebc999786"
            }
        },
        {
            "cell_type": "code",
            "source": [
                "dummies = pd.get_dummies(c.violcode)\n",
                "dummies.columns = [f\"violcd_{cd}\" for cd in dummies.columns]\n",
                "pd.concat([c, dummies], axis=1)"
            ],
            "metadata": {
                "colab": {
                    "base_uri": "https://localhost:8080/",
                    "height": 419
                },
                "id": "hYf02VQXh61i",
                "executionInfo": {
                    "status": "ok",
                    "timestamp": 1630990183022,
                    "user_tz": 240,
                    "elapsed": 462,
                    "user": {
                        "displayName": "Devin Fensterheim",
                        "photoUrl": "",
                        "userId": "06980321290763057089"
                    }
                },
                "outputId": "e5e24075-b7d1-4e53-b5ba-26dc189e1268",
                "azdata_cell_guid": "e54693d6-a6fe-4097-9a40-7db901798c1a",
                "language": "python"
            },
            "outputs": [
                {
                    "output_type": "execute_result",
                    "execution_count": 133,
                    "data": {
                        "text/html": "<div>\n<style scoped>\n    .dataframe tbody tr th:only-of-type {\n        vertical-align: middle;\n    }\n\n    .dataframe tbody tr th {\n        vertical-align: top;\n    }\n\n    .dataframe thead th {\n        text-align: right;\n    }\n</style>\n<table border=\"1\" class=\"dataframe\">\n  <thead>\n    <tr style=\"text-align: right;\">\n      <th></th>\n      <th>citation</th>\n      <th>tag</th>\n      <th>state</th>\n      <th>violcode</th>\n      <th>description</th>\n      <th>violfine</th>\n      <th>violdate</th>\n      <th>location</th>\n      <th>violdtl</th>\n      <th>timetheta</th>\n      <th>ctheta</th>\n      <th>stheta</th>\n      <th>violcd_12</th>\n      <th>violcd_18</th>\n      <th>violcd_30</th>\n      <th>violcd_31</th>\n      <th>violcd_32</th>\n    </tr>\n  </thead>\n  <tbody>\n    <tr>\n      <th>2640</th>\n      <td>130484</td>\n      <td>3DM4068</td>\n      <td>MD</td>\n      <td>12</td>\n      <td>No Stopping/Standing Not Tow-Away Zone</td>\n      <td>32</td>\n      <td>2021-06-04 01:35:00-04:00</td>\n      <td>(39.28865729, -76.61323964)</td>\n      <td>2021-06-04 01:35:00</td>\n      <td>0.414516</td>\n      <td>0.915311</td>\n      <td>0.402747</td>\n      <td>1</td>\n      <td>0</td>\n      <td>0</td>\n      <td>0</td>\n      <td>0</td>\n    </tr>\n    <tr>\n      <th>7318</th>\n      <td>515841</td>\n      <td>7DD3863</td>\n      <td>MD</td>\n      <td>18</td>\n      <td>All Other Parking Meter Violations</td>\n      <td>32</td>\n      <td>2020-05-27 11:15:00-04:00</td>\n      <td>&lt;NA&gt;</td>\n      <td>2020-05-27 11:15:00</td>\n      <td>2.945243</td>\n      <td>-0.980785</td>\n      <td>0.195090</td>\n      <td>0</td>\n      <td>1</td>\n      <td>0</td>\n      <td>0</td>\n      <td>0</td>\n    </tr>\n    <tr>\n      <th>8776</th>\n      <td>604827</td>\n      <td>1ED9532</td>\n      <td>MD</td>\n      <td>12</td>\n      <td>No Stopping/Standing Not Tow-Away Zone</td>\n      <td>32</td>\n      <td>2021-03-10 09:36:00-05:00</td>\n      <td>&lt;NA&gt;</td>\n      <td>2021-03-10 09:36:00</td>\n      <td>2.513274</td>\n      <td>-0.809017</td>\n      <td>0.587785</td>\n      <td>1</td>\n      <td>0</td>\n      <td>0</td>\n      <td>0</td>\n      <td>0</td>\n    </tr>\n    <tr>\n      <th>8818</th>\n      <td>608240</td>\n      <td>2CB7909</td>\n      <td>MD</td>\n      <td>12</td>\n      <td>No Stopping/Standing Not Tow-Away Zone</td>\n      <td>32</td>\n      <td>2020-11-22 15:50:00-05:00</td>\n      <td>&lt;NA&gt;</td>\n      <td>2020-11-22 15:50:00</td>\n      <td>4.145157</td>\n      <td>-0.537300</td>\n      <td>-0.843391</td>\n      <td>1</td>\n      <td>0</td>\n      <td>0</td>\n      <td>0</td>\n      <td>0</td>\n    </tr>\n    <tr>\n      <th>18361</th>\n      <td>1213206</td>\n      <td>9AT4802</td>\n      <td>MD</td>\n      <td>12</td>\n      <td>No Stopping/Standing Not Tow-Away Zone</td>\n      <td>32</td>\n      <td>2021-04-16 07:55:00-04:00</td>\n      <td>&lt;NA&gt;</td>\n      <td>2021-04-16 07:55:00</td>\n      <td>2.072578</td>\n      <td>-0.480989</td>\n      <td>0.876727</td>\n      <td>1</td>\n      <td>0</td>\n      <td>0</td>\n      <td>0</td>\n      <td>0</td>\n    </tr>\n    <tr>\n      <th>...</th>\n      <td>...</td>\n      <td>...</td>\n      <td>...</td>\n      <td>...</td>\n      <td>...</td>\n      <td>...</td>\n      <td>...</td>\n      <td>...</td>\n      <td>...</td>\n      <td>...</td>\n      <td>...</td>\n      <td>...</td>\n      <td>...</td>\n      <td>...</td>\n      <td>...</td>\n      <td>...</td>\n      <td>...</td>\n    </tr>\n    <tr>\n      <th>3387562</th>\n      <td>69999515</td>\n      <td>1EL2879</td>\n      <td>MD</td>\n      <td>12</td>\n      <td>No Stopping/Standing Not Tow-Away Zone</td>\n      <td>32</td>\n      <td>2021-06-16 11:23:00-04:00</td>\n      <td>(39.29417728, -76.61859607)</td>\n      <td>2021-06-16 11:23:00</td>\n      <td>2.980150</td>\n      <td>-0.986996</td>\n      <td>0.160743</td>\n      <td>1</td>\n      <td>0</td>\n      <td>0</td>\n      <td>0</td>\n      <td>0</td>\n    </tr>\n    <tr>\n      <th>3387563</th>\n      <td>69999523</td>\n      <td>72533CJ</td>\n      <td>MD</td>\n      <td>12</td>\n      <td>No Stopping/Standing Not Tow-Away Zone</td>\n      <td>32</td>\n      <td>2021-06-16 11:26:00-04:00</td>\n      <td>(39.29417728, -76.61859607)</td>\n      <td>2021-06-16 11:26:00</td>\n      <td>2.993240</td>\n      <td>-0.989016</td>\n      <td>0.147809</td>\n      <td>1</td>\n      <td>0</td>\n      <td>0</td>\n      <td>0</td>\n      <td>0</td>\n    </tr>\n    <tr>\n      <th>3387564</th>\n      <td>69999531</td>\n      <td>5DL3983</td>\n      <td>MD</td>\n      <td>12</td>\n      <td>No Stopping/Standing Not Tow-Away Zone</td>\n      <td>32</td>\n      <td>2021-06-16 11:28:00-04:00</td>\n      <td>(39.29417728, -76.61859607)</td>\n      <td>2021-06-16 11:28:00</td>\n      <td>3.001966</td>\n      <td>-0.990268</td>\n      <td>0.139173</td>\n      <td>1</td>\n      <td>0</td>\n      <td>0</td>\n      <td>0</td>\n      <td>0</td>\n    </tr>\n    <tr>\n      <th>3387565</th>\n      <td>69999549</td>\n      <td>3BV4229</td>\n      <td>MD</td>\n      <td>18</td>\n      <td>All Other Parking Meter Violations</td>\n      <td>32</td>\n      <td>2021-06-16 11:34:00-04:00</td>\n      <td>(39.29417728, -76.61859607)</td>\n      <td>2021-06-16 11:34:00</td>\n      <td>3.028146</td>\n      <td>-0.993572</td>\n      <td>0.113203</td>\n      <td>0</td>\n      <td>1</td>\n      <td>0</td>\n      <td>0</td>\n      <td>0</td>\n    </tr>\n    <tr>\n      <th>3387566</th>\n      <td>69999556</td>\n      <td>7EE7244</td>\n      <td>MD</td>\n      <td>18</td>\n      <td>All Other Parking Meter Violations</td>\n      <td>32</td>\n      <td>2021-06-16 11:35:00-04:00</td>\n      <td>(39.29417728, -76.61859607)</td>\n      <td>2021-06-16 11:35:00</td>\n      <td>3.032510</td>\n      <td>-0.994056</td>\n      <td>0.108867</td>\n      <td>0</td>\n      <td>1</td>\n      <td>0</td>\n      <td>0</td>\n      <td>0</td>\n    </tr>\n  </tbody>\n</table>\n<p>1354795 rows × 17 columns</p>\n</div>",
                        "text/plain": "         citation      tag state  ...  violcd_30 violcd_31  violcd_32\n2640       130484  3DM4068    MD  ...          0         0          0\n7318       515841  7DD3863    MD  ...          0         0          0\n8776       604827  1ED9532    MD  ...          0         0          0\n8818       608240  2CB7909    MD  ...          0         0          0\n18361     1213206  9AT4802    MD  ...          0         0          0\n...           ...      ...   ...  ...        ...       ...        ...\n3387562  69999515  1EL2879    MD  ...          0         0          0\n3387563  69999523  72533CJ    MD  ...          0         0          0\n3387564  69999531  5DL3983    MD  ...          0         0          0\n3387565  69999549  3BV4229    MD  ...          0         0          0\n3387566  69999556  7EE7244    MD  ...          0         0          0\n\n[1354795 rows x 17 columns]"
                    },
                    "metadata": {}
                }
            ],
            "execution_count": null
        },
        {
            "cell_type": "markdown",
            "source": [
                "## Question 3\n",
                " Join the citations and weather datasets to produce a merged data frame.  The merged data frame should provide, for each citation, the reported weather conditions for the closest weather observation."
            ],
            "metadata": {
                "id": "V4liKivrl7gM",
                "azdata_cell_guid": "ecb9e2ba-65c3-44ed-8df1-dd2129b80613"
            }
        },
        {
            "cell_type": "code",
            "source": [
                "wdf = wdf.sort_values(\"date\")\n",
                "cdf = cdf[cdf.violdate.dt.year >= 2016].sort_values(\"violdate\")\n",
                "mdf = pd.merge_asof(cdf, wdf, left_on=\"violdate\", right_on=\"date\", direction=\"nearest\")"
            ],
            "metadata": {
                "id": "KTdoM4CCl_eN",
                "azdata_cell_guid": "0f70d512-698d-429f-ae72-6f3dcccba3d2",
                "language": "python"
            },
            "outputs": [],
            "execution_count": null
        },
        {
            "cell_type": "markdown",
            "source": [
                "From this joined data set, examine instances of fixed speed camera citations (violation type 32).  Does weather affect citation volumes?  Justify your conclusion."
            ],
            "metadata": {
                "id": "cFWo3E36owS-",
                "azdata_cell_guid": "cc547206-c48a-4307-83f5-58600a6dcc6c"
            }
        },
        {
            "cell_type": "code",
            "source": [
                "mdf = mdf[mdf.violcode == 32]\n",
                "#rename date column to reflect the weather observation timestamp\n",
                "mdf.rename({\"date\": \"wobsts\"}, axis=1, inplace=True)"
            ],
            "metadata": {
                "id": "AbUTqGVRooOP",
                "azdata_cell_guid": "cafb8a66-dfba-4063-864b-8681246f9d66",
                "language": "python"
            },
            "outputs": [],
            "execution_count": null
        },
        {
            "cell_type": "code",
            "source": [
                "mdf = mdf.assign(\n",
                "    badweather = lambda r: (r.precip_intensity > 0) |\n",
                "       (r.precip > 0) |\n",
                "       (r.tstorm + r.winter + r.fog > 0))\n",
                "mdfsum = (mdf\n",
                "          .groupby([\"wobsts\", \"badweather\"])\n",
                "          .agg({\"citation\": \"count\"})\n",
                "          .reset_index()\n",
                "          .rename({\"citation\": \"count\"}, axis=1))"
            ],
            "metadata": {
                "id": "3cdnis6Emely",
                "azdata_cell_guid": "b0bea887-3972-41fb-b6f9-921e130cbfc9",
                "language": "python"
            },
            "outputs": [],
            "execution_count": null
        },
        {
            "cell_type": "code",
            "source": [
                "#add hour\n",
                "mdfsum = mdfsum.assign(hr = mdfsum.wobsts.dt.hour, dow = mdfsum.wobsts.dt.weekday)\n",
                "mdfsum"
            ],
            "metadata": {
                "colab": {
                    "base_uri": "https://localhost:8080/",
                    "height": 419
                },
                "id": "WjYjB0AkRT4x",
                "executionInfo": {
                    "status": "ok",
                    "timestamp": 1631069505328,
                    "user_tz": 240,
                    "elapsed": 208,
                    "user": {
                        "displayName": "Devin Fensterheim",
                        "photoUrl": "",
                        "userId": "06980321290763057089"
                    }
                },
                "outputId": "47df8e35-32a8-40b2-808d-5dd295e07b72",
                "azdata_cell_guid": "2c879d78-456b-4429-877c-70f7f197e692",
                "language": "python"
            },
            "outputs": [
                {
                    "output_type": "execute_result",
                    "execution_count": 80,
                    "data": {
                        "text/html": "<div>\n<style scoped>\n    .dataframe tbody tr th:only-of-type {\n        vertical-align: middle;\n    }\n\n    .dataframe tbody tr th {\n        vertical-align: top;\n    }\n\n    .dataframe thead th {\n        text-align: right;\n    }\n</style>\n<table border=\"1\" class=\"dataframe\">\n  <thead>\n    <tr style=\"text-align: right;\">\n      <th></th>\n      <th>wobsts</th>\n      <th>badweather</th>\n      <th>count</th>\n      <th>hr</th>\n      <th>dow</th>\n    </tr>\n  </thead>\n  <tbody>\n    <tr>\n      <th>0</th>\n      <td>2017-07-31 05:54:00-04:00</td>\n      <td>False</td>\n      <td>25</td>\n      <td>5</td>\n      <td>0</td>\n    </tr>\n    <tr>\n      <th>1</th>\n      <td>2017-07-31 06:54:00-04:00</td>\n      <td>False</td>\n      <td>91</td>\n      <td>6</td>\n      <td>0</td>\n    </tr>\n    <tr>\n      <th>2</th>\n      <td>2017-07-31 07:54:00-04:00</td>\n      <td>False</td>\n      <td>91</td>\n      <td>7</td>\n      <td>0</td>\n    </tr>\n    <tr>\n      <th>3</th>\n      <td>2017-07-31 08:54:00-04:00</td>\n      <td>False</td>\n      <td>121</td>\n      <td>8</td>\n      <td>0</td>\n    </tr>\n    <tr>\n      <th>4</th>\n      <td>2017-07-31 09:54:00-04:00</td>\n      <td>False</td>\n      <td>147</td>\n      <td>9</td>\n      <td>0</td>\n    </tr>\n    <tr>\n      <th>...</th>\n      <td>...</td>\n      <td>...</td>\n      <td>...</td>\n      <td>...</td>\n      <td>...</td>\n    </tr>\n    <tr>\n      <th>15355</th>\n      <td>2021-07-05 08:54:00-04:00</td>\n      <td>False</td>\n      <td>107</td>\n      <td>8</td>\n      <td>0</td>\n    </tr>\n    <tr>\n      <th>15356</th>\n      <td>2021-07-05 09:54:00-04:00</td>\n      <td>False</td>\n      <td>154</td>\n      <td>9</td>\n      <td>0</td>\n    </tr>\n    <tr>\n      <th>15357</th>\n      <td>2021-07-05 10:54:00-04:00</td>\n      <td>False</td>\n      <td>162</td>\n      <td>10</td>\n      <td>0</td>\n    </tr>\n    <tr>\n      <th>15358</th>\n      <td>2021-07-05 11:54:00-04:00</td>\n      <td>False</td>\n      <td>172</td>\n      <td>11</td>\n      <td>0</td>\n    </tr>\n    <tr>\n      <th>15359</th>\n      <td>2021-07-05 12:54:00-04:00</td>\n      <td>False</td>\n      <td>129</td>\n      <td>12</td>\n      <td>0</td>\n    </tr>\n  </tbody>\n</table>\n<p>15360 rows × 5 columns</p>\n</div>",
                        "text/plain": "                         wobsts  badweather  count  hr  dow\n0     2017-07-31 05:54:00-04:00       False     25   5    0\n1     2017-07-31 06:54:00-04:00       False     91   6    0\n2     2017-07-31 07:54:00-04:00       False     91   7    0\n3     2017-07-31 08:54:00-04:00       False    121   8    0\n4     2017-07-31 09:54:00-04:00       False    147   9    0\n...                         ...         ...    ...  ..  ...\n15355 2021-07-05 08:54:00-04:00       False    107   8    0\n15356 2021-07-05 09:54:00-04:00       False    154   9    0\n15357 2021-07-05 10:54:00-04:00       False    162  10    0\n15358 2021-07-05 11:54:00-04:00       False    172  11    0\n15359 2021-07-05 12:54:00-04:00       False    129  12    0\n\n[15360 rows x 5 columns]"
                    },
                    "metadata": {}
                }
            ],
            "execution_count": null
        },
        {
            "cell_type": "markdown",
            "source": [
                "First, let's examine visually.  A boxplot shows lower volume"
            ],
            "metadata": {
                "id": "f0GoAKe4UF9n",
                "azdata_cell_guid": "065a5338-6f6e-4d4c-91ba-3621a5a073fc"
            }
        },
        {
            "cell_type": "code",
            "source": [
                "sns.boxplot(data=mdfsum, y=\"count\", x=\"hr\", hue=\"badweather\")"
            ],
            "metadata": {
                "colab": {
                    "base_uri": "https://localhost:8080/",
                    "height": 297
                },
                "id": "FvNyfoGYSQeq",
                "executionInfo": {
                    "status": "ok",
                    "timestamp": 1631069511652,
                    "user_tz": 240,
                    "elapsed": 1505,
                    "user": {
                        "displayName": "Devin Fensterheim",
                        "photoUrl": "",
                        "userId": "06980321290763057089"
                    }
                },
                "outputId": "da834b79-a3db-4d96-dd24-df70e75d2c17",
                "azdata_cell_guid": "2f879a35-9158-4f3e-b77b-55a423e86904",
                "language": "python"
            },
            "outputs": [
                {
                    "output_type": "execute_result",
                    "execution_count": 81,
                    "data": {
                        "text/plain": "<matplotlib.axes._subplots.AxesSubplot at 0x7f81b1a1d410>"
                    },
                    "metadata": {}
                },
                {
                    "output_type": "display_data",
                    "data": {
                        "image/png": "[encoded data removed]",
                        "text/plain": "<Figure size 432x288 with 1 Axes>"
                    },
                    "metadata": {
                        "needs_background": "light"
                    }
                }
            ],
            "execution_count": null
        },
        {
            "cell_type": "code",
            "source": [
                "mdfsum.groupby(\"badweather\").describe()"
            ],
            "metadata": {
                "colab": {
                    "base_uri": "https://localhost:8080/",
                    "height": 173
                },
                "id": "AnUmdZuuUhZH",
                "executionInfo": {
                    "status": "ok",
                    "timestamp": 1631069584839,
                    "user_tz": 240,
                    "elapsed": 134,
                    "user": {
                        "displayName": "Devin Fensterheim",
                        "photoUrl": "",
                        "userId": "06980321290763057089"
                    }
                },
                "outputId": "3a2c2466-f358-48a3-bff8-f34bd5578979",
                "azdata_cell_guid": "e232adbc-7110-45f9-8469-3229693c52bf",
                "language": "python"
            },
            "outputs": [
                {
                    "output_type": "execute_result",
                    "execution_count": 83,
                    "data": {
                        "text/html": "<div>\n<style scoped>\n    .dataframe tbody tr th:only-of-type {\n        vertical-align: middle;\n    }\n\n    .dataframe tbody tr th {\n        vertical-align: top;\n    }\n\n    .dataframe thead tr th {\n        text-align: left;\n    }\n\n    .dataframe thead tr:last-of-type th {\n        text-align: right;\n    }\n</style>\n<table border=\"1\" class=\"dataframe\">\n  <thead>\n    <tr>\n      <th></th>\n      <th colspan=\"8\" halign=\"left\">count</th>\n      <th colspan=\"8\" halign=\"left\">hr</th>\n      <th colspan=\"8\" halign=\"left\">dow</th>\n    </tr>\n    <tr>\n      <th></th>\n      <th>count</th>\n      <th>mean</th>\n      <th>std</th>\n      <th>min</th>\n      <th>25%</th>\n      <th>50%</th>\n      <th>75%</th>\n      <th>max</th>\n      <th>count</th>\n      <th>mean</th>\n      <th>std</th>\n      <th>min</th>\n      <th>25%</th>\n      <th>50%</th>\n      <th>75%</th>\n      <th>max</th>\n      <th>count</th>\n      <th>mean</th>\n      <th>std</th>\n      <th>min</th>\n      <th>25%</th>\n      <th>50%</th>\n      <th>75%</th>\n      <th>max</th>\n    </tr>\n    <tr>\n      <th>badweather</th>\n      <th></th>\n      <th></th>\n      <th></th>\n      <th></th>\n      <th></th>\n      <th></th>\n      <th></th>\n      <th></th>\n      <th></th>\n      <th></th>\n      <th></th>\n      <th></th>\n      <th></th>\n      <th></th>\n      <th></th>\n      <th></th>\n      <th></th>\n      <th></th>\n      <th></th>\n      <th></th>\n      <th></th>\n      <th></th>\n      <th></th>\n      <th></th>\n    </tr>\n  </thead>\n  <tbody>\n    <tr>\n      <th>False</th>\n      <td>13647.0</td>\n      <td>131.175057</td>\n      <td>63.229820</td>\n      <td>1.0</td>\n      <td>85.0</td>\n      <td>134.0</td>\n      <td>178.0</td>\n      <td>387.0</td>\n      <td>13647.0</td>\n      <td>12.001685</td>\n      <td>4.313089</td>\n      <td>2.0</td>\n      <td>8.0</td>\n      <td>12.0</td>\n      <td>16.0</td>\n      <td>20.0</td>\n      <td>13647.0</td>\n      <td>2.001832</td>\n      <td>1.406705</td>\n      <td>0.0</td>\n      <td>1.0</td>\n      <td>2.0</td>\n      <td>3.0</td>\n      <td>4.0</td>\n    </tr>\n    <tr>\n      <th>True</th>\n      <td>1713.0</td>\n      <td>88.350846</td>\n      <td>51.782797</td>\n      <td>1.0</td>\n      <td>49.0</td>\n      <td>85.0</td>\n      <td>123.0</td>\n      <td>343.0</td>\n      <td>1713.0</td>\n      <td>11.982487</td>\n      <td>4.381585</td>\n      <td>5.0</td>\n      <td>8.0</td>\n      <td>12.0</td>\n      <td>16.0</td>\n      <td>20.0</td>\n      <td>1713.0</td>\n      <td>1.973730</td>\n      <td>1.475227</td>\n      <td>0.0</td>\n      <td>1.0</td>\n      <td>2.0</td>\n      <td>3.0</td>\n      <td>4.0</td>\n    </tr>\n  </tbody>\n</table>\n</div>",
                        "text/plain": "              count                                    ...  dow                    \n              count        mean        std  min   25%  ...  min  25%  50%  75%  max\nbadweather                                             ...                         \nFalse       13647.0  131.175057  63.229820  1.0  85.0  ...  0.0  1.0  2.0  3.0  4.0\nTrue         1713.0   88.350846  51.782797  1.0  49.0  ...  0.0  1.0  2.0  3.0  4.0\n\n[2 rows x 24 columns]"
                    },
                    "metadata": {}
                }
            ],
            "execution_count": null
        },
        {
            "cell_type": "markdown",
            "source": [
                "We can generate a contingency table that shows about a 33% average reduction in citations during bad weather."
            ],
            "metadata": {
                "id": "1RR9GD3aZjBP",
                "azdata_cell_guid": "25bb2d62-4669-4177-89e8-dce3c98e3d26"
            }
        },
        {
            "cell_type": "code",
            "source": [
                "conttable = mdfsum[mdfsum.hr > 2].pivot_table(index=\"hr\", columns=\"badweather\", values=\"count\")\n",
                "conttable.assign(reduction = lambda r: 1-r[True]/r[False])"
            ],
            "metadata": {
                "colab": {
                    "base_uri": "https://localhost:8080/",
                    "height": 575
                },
                "id": "v2dBfL_VYHws",
                "executionInfo": {
                    "status": "ok",
                    "timestamp": 1631070962695,
                    "user_tz": 240,
                    "elapsed": 142,
                    "user": {
                        "displayName": "Devin Fensterheim",
                        "photoUrl": "",
                        "userId": "06980321290763057089"
                    }
                },
                "outputId": "6d79f372-7d49-4087-8505-a0681aa7c42c",
                "azdata_cell_guid": "2e2a0df3-a37f-4309-816e-8fe3627d8dc5",
                "language": "python"
            },
            "outputs": [
                {
                    "output_type": "execute_result",
                    "execution_count": 100,
                    "data": {
                        "text/html": "<div>\n<style scoped>\n    .dataframe tbody tr th:only-of-type {\n        vertical-align: middle;\n    }\n\n    .dataframe tbody tr th {\n        vertical-align: top;\n    }\n\n    .dataframe thead th {\n        text-align: right;\n    }\n</style>\n<table border=\"1\" class=\"dataframe\">\n  <thead>\n    <tr style=\"text-align: right;\">\n      <th>badweather</th>\n      <th>False</th>\n      <th>True</th>\n      <th>reduction</th>\n    </tr>\n    <tr>\n      <th>hr</th>\n      <th></th>\n      <th></th>\n      <th></th>\n    </tr>\n  </thead>\n  <tbody>\n    <tr>\n      <th>5</th>\n      <td>29.051876</td>\n      <td>19.243478</td>\n      <td>0.337617</td>\n    </tr>\n    <tr>\n      <th>6</th>\n      <td>86.721421</td>\n      <td>57.203252</td>\n      <td>0.340379</td>\n    </tr>\n    <tr>\n      <th>7</th>\n      <td>104.966851</td>\n      <td>66.805085</td>\n      <td>0.363560</td>\n    </tr>\n    <tr>\n      <th>8</th>\n      <td>140.686059</td>\n      <td>90.330435</td>\n      <td>0.357929</td>\n    </tr>\n    <tr>\n      <th>9</th>\n      <td>161.950549</td>\n      <td>110.318966</td>\n      <td>0.318811</td>\n    </tr>\n    <tr>\n      <th>10</th>\n      <td>169.285871</td>\n      <td>110.831858</td>\n      <td>0.345298</td>\n    </tr>\n    <tr>\n      <th>11</th>\n      <td>173.533769</td>\n      <td>116.103774</td>\n      <td>0.330944</td>\n    </tr>\n    <tr>\n      <th>12</th>\n      <td>176.965104</td>\n      <td>124.407407</td>\n      <td>0.296995</td>\n    </tr>\n    <tr>\n      <th>13</th>\n      <td>175.432671</td>\n      <td>119.767241</td>\n      <td>0.317304</td>\n    </tr>\n    <tr>\n      <th>14</th>\n      <td>152.644493</td>\n      <td>105.594340</td>\n      <td>0.308234</td>\n    </tr>\n    <tr>\n      <th>15</th>\n      <td>143.354803</td>\n      <td>101.850467</td>\n      <td>0.289522</td>\n    </tr>\n    <tr>\n      <th>16</th>\n      <td>129.838106</td>\n      <td>95.681034</td>\n      <td>0.263074</td>\n    </tr>\n    <tr>\n      <th>17</th>\n      <td>127.034103</td>\n      <td>87.452174</td>\n      <td>0.311585</td>\n    </tr>\n    <tr>\n      <th>18</th>\n      <td>127.811050</td>\n      <td>85.546218</td>\n      <td>0.330682</td>\n    </tr>\n    <tr>\n      <th>19</th>\n      <td>66.150609</td>\n      <td>45.630252</td>\n      <td>0.310207</td>\n    </tr>\n    <tr>\n      <th>20</th>\n      <td>14.000000</td>\n      <td>11.000000</td>\n      <td>0.214286</td>\n    </tr>\n  </tbody>\n</table>\n</div>",
                        "text/plain": "badweather       False        True  reduction\nhr                                           \n5            29.051876   19.243478   0.337617\n6            86.721421   57.203252   0.340379\n7           104.966851   66.805085   0.363560\n8           140.686059   90.330435   0.357929\n9           161.950549  110.318966   0.318811\n10          169.285871  110.831858   0.345298\n11          173.533769  116.103774   0.330944\n12          176.965104  124.407407   0.296995\n13          175.432671  119.767241   0.317304\n14          152.644493  105.594340   0.308234\n15          143.354803  101.850467   0.289522\n16          129.838106   95.681034   0.263074\n17          127.034103   87.452174   0.311585\n18          127.811050   85.546218   0.330682\n19           66.150609   45.630252   0.310207\n20           14.000000   11.000000   0.214286"
                    },
                    "metadata": {}
                }
            ],
            "execution_count": null
        },
        {
            "cell_type": "markdown",
            "source": [
                "While not required for the assignment, a $\\chi^2$ test does not establish independence ($p\\approx 1$)."
            ],
            "metadata": {
                "id": "KC4UHpWaXf3n",
                "azdata_cell_guid": "fcb505ed-d2e4-426a-a310-bb18813e2cb3"
            }
        },
        {
            "cell_type": "code",
            "source": [
                "from scipy.stats import chi2_contingency\n",
                "chi2_contingency(conttable.values, False)"
            ],
            "metadata": {
                "colab": {
                    "base_uri": "https://localhost:8080/"
                },
                "id": "GALvCO2aUrxp",
                "executionInfo": {
                    "status": "ok",
                    "timestamp": 1631070965818,
                    "user_tz": 240,
                    "elapsed": 115,
                    "user": {
                        "displayName": "Devin Fensterheim",
                        "photoUrl": "",
                        "userId": "06980321290763057089"
                    }
                },
                "outputId": "8774503e-a637-4cd7-9b15-8a68c497febd",
                "azdata_cell_guid": "057c72cc-7836-4bc4-96d6-8d247c4ca8b2",
                "language": "python"
            },
            "outputs": [
                {
                    "output_type": "execute_result",
                    "execution_count": 101,
                    "data": {
                        "text/plain": "(1.2393926280151768,\n 0.9999988581243332,\n 15,\n array([[ 28.73206815,  19.56328649],\n        [ 85.62424968,  58.300423  ],\n        [102.1912562 ,  69.58067937],\n        [137.43726909,  93.57922497],\n        [161.97968351, 110.28983146],\n        [166.64877491, 113.46895425],\n        [172.31234094, 117.32520171],\n        [179.29375588, 122.07875512],\n        [175.62152854, 119.57838393],\n        [153.63249304, 104.60633949],\n        [145.87851365,  99.32675713],\n        [134.16676105,  91.35237916],\n        [127.60304554,  86.88323178],\n        [126.93137086,  86.42589735],\n        [ 66.50112305,  45.27973814],\n        [ 14.87310134,  10.12689866]]))"
                    },
                    "metadata": {}
                }
            ],
            "execution_count": null
        }
    ]
}